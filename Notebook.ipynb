{
 "cells": [
  {
   "cell_type": "markdown",
   "metadata": {},
   "source": [
    "# Notebook for the fitting of scaling laws"
   ]
  },
  {
   "cell_type": "markdown",
   "metadata": {},
   "source": [
    "- For details see: \n",
    "\n",
    "-- Is this scaling non-linear?, from Jorge C. Leitão, José M. Miotto, Martin Gerlach, and Eduardo G. Altmann,\n",
    "DOI: 10.1098/rsos.150649.\n",
    "http://rsos.royalsocietypublishing.org/content/3/7/150649\n",
    "\n",
    "- Remove results from folder \"_results\" to ensure original computations (instead of reading from stored results)"
   ]
  },
  {
   "cell_type": "code",
   "execution_count": 1,
   "metadata": {},
   "outputs": [],
   "source": [
    "import analysis as a\n",
    "import numpy as np\n",
    "MIN_VALUE = 10**-8\n",
    "\n",
    "%load_ext autoreload\n",
    "%autoreload 2\n",
    "\n",
    "%matplotlib inline\n",
    "def summary(func):\n",
    "    print(func.description,'\\t Dataset:',func.dataset)\n",
    "    print('Beta +- error:\\t',func.beta)\n",
    "    print('P-value:\\t',func.p_value)\n",
    "    print('BIC:\\t\\t',func.bic,'\\n')"
   ]
  },
  {
   "cell_type": "markdown",
   "metadata": {},
   "source": [
    "## Choose the dataset \n",
    "\n",
    "- by setting the variable dataset=\"name\"\n",
    "\n",
    "- Pick one of the available datasets (write 'help' as the name of the dataset for a list)\n",
    "\n",
    "- Or, add your csv dataset to the appropriate folder:\n",
    "\n",
    "-- New dataset with three columns (name,x,y) = (city-name, population, observable) to folder new_dataset/\n",
    "\n",
    "-- New dataset with two columns (x,y) = (population, observable) to folder new_dataset2/"
   ]
  },
  {
   "cell_type": "code",
   "execution_count": 2,
   "metadata": {},
   "outputs": [],
   "source": [
    "dataset=\"usa_miles\"\n",
    "\n",
    "try:\n",
    "    x=a.xy(dataset).x\n",
    "    y=a.xy(dataset).y\n",
    "except:\n",
    "    print(\"Invalid Dataset Chosen. Available datasets are:\\n\")\n",
    "    for i in a.DATABASES:\n",
    "        print(i)\n",
    "\n",
    "#Deleting all calculations for previously load new datasets\n",
    "if dataset.startswith(\"new_dataset\"):\n",
    "    %rm _results/*new_dataset*"
   ]
  },
  {
   "cell_type": "markdown",
   "metadata": {},
   "source": [
    "# Performing Analysis"
   ]
  },
  {
   "cell_type": "markdown",
   "metadata": {},
   "source": [
    " - Each line is one of the models, with specific constrains. Further constrains cna be fixed in each model.\n",
    " \n",
    " - This can take some time (at least a couple of minutes)\n",
    "\n",
    " - Increase the \"required_successes=\" parameter to increase precision (and computational time) "
   ]
  },
  {
   "cell_type": "markdown",
   "metadata": {},
   "source": [
    "## Log-Normal"
   ]
  },
  {
   "cell_type": "code",
   "execution_count": 3,
   "metadata": {},
   "outputs": [],
   "source": [
    "ln = a.LogNormalAnalysis(dataset, required_successes=8)"
   ]
  },
  {
   "cell_type": "code",
   "execution_count": 4,
   "metadata": {},
   "outputs": [],
   "source": [
    "ln_beta1=a.LogNormalFixedBetaAnalysis(dataset,required_successes=8)"
   ]
  },
  {
   "cell_type": "code",
   "execution_count": 5,
   "metadata": {},
   "outputs": [],
   "source": [
    "ln_deltaf=a.LogNormalFixedDAnalysis(dataset,required_successes=8)"
   ]
  },
  {
   "cell_type": "markdown",
   "metadata": {},
   "source": [
    "##  Gaussian"
   ]
  },
  {
   "cell_type": "code",
   "execution_count": 6,
   "metadata": {},
   "outputs": [],
   "source": [
    "Gauss=a.ConstrainedDAnalysis(dataset,required_successes=8)"
   ]
  },
  {
   "cell_type": "code",
   "execution_count": 7,
   "metadata": {},
   "outputs": [],
   "source": [
    "Gauss_beta1=a.ConstrainedDFixedBetaAnalysis(dataset,required_successes=8)"
   ]
  },
  {
   "cell_type": "markdown",
   "metadata": {},
   "source": [
    "## Population"
   ]
  },
  {
   "cell_type": "code",
   "execution_count": 8,
   "metadata": {},
   "outputs": [],
   "source": [
    "Pop=a.PopulationAnalysis(dataset,required_successes=8)"
   ]
  },
  {
   "cell_type": "code",
   "execution_count": 9,
   "metadata": {},
   "outputs": [],
   "source": [
    "Pop2=a.PopulationFixedGammaAnalysis(dataset,required_successes=8)"
   ]
  },
  {
   "cell_type": "markdown",
   "metadata": {},
   "source": [
    "# Outcome of the Analysis "
   ]
  },
  {
   "cell_type": "markdown",
   "metadata": {},
   "source": [
    "### Printing the outcomes"
   ]
  },
  {
   "cell_type": "code",
   "execution_count": 10,
   "metadata": {},
   "outputs": [
    {
     "name": "stdout",
     "output_type": "stream",
     "text": [
      "Log normal fluctuations with a general \\delta \t Dataset: usa_miles\n",
      "Beta +- error:\t (0.8192628079796318, 0.030904363670818037)\n",
      "P-value:\t 4.018631224493134e-24\n",
      "BIC:\t\t 6875.553448326808 \n",
      "\n",
      "Log normal fluctuations with \\beta = 1 \t Dataset: usa_miles\n",
      "Beta +- error:\t (1.0, 0.0)\n",
      "P-value:\t 6.375072559501693e-25\n",
      "BIC:\t\t 6968.004888709369 \n",
      "\n",
      "Log normal fluctuations with \\delta = 1 \t Dataset: usa_miles\n",
      "Beta +- error:\t (0.8466674769713392, 0.028641550591788325)\n",
      "P-value:\t 1.8088689971389723e-19\n",
      "BIC:\t\t 6899.947573641781 \n",
      "\n",
      "Gaussian fluctuations with free \\delta \t Dataset: usa_miles\n",
      "Beta +- error:\t (0.8138002902702632, 0.03831691091346532)\n",
      "P-value:\t 3.9624638314560445e-96\n",
      "BIC:\t\t 7064.256049529742 \n",
      "\n",
      "Gaussian fluctuations with \\beta = 1 and free \\delta \t Dataset: usa_miles\n",
      "Beta +- error:\t (1.0, 0.0)\n",
      "P-value:\t 5.499766591770659e-106\n",
      "BIC:\t\t 7230.710554196619 \n",
      "\n",
      "People model with free \\delta \t Dataset: usa_miles\n",
      "Beta +- error:\t (0.8071212607697648, 0.0377747720448735)\n",
      "P-value:\t 0.0\n",
      "BIC:\t\t 20207060.38179134 \n",
      "\n",
      "People model with \\delta = 1 \t Dataset: usa_miles\n",
      "Beta +- error:\t (1.0, 0.0)\n",
      "P-value:\t 0.0\n",
      "BIC:\t\t 20302337.306057703 \n",
      "\n",
      "\n",
      " Least Square fitting: (0.8466669743231301, 0.03480665444151618, -3.220110659861084)\n"
     ]
    }
   ],
   "source": [
    "summary(ln)\n",
    "summary(ln_beta1)\n",
    "summary(ln_deltaf)\n",
    "summary(Gauss)\n",
    "summary(Gauss_beta1)\n",
    "summary(Pop)\n",
    "summary(Pop2)\n",
    "\n",
    "print(\"\\n Least Square fitting:\",a.mls_best_fit(np.log(x),np.log(y)))"
   ]
  },
  {
   "cell_type": "markdown",
   "metadata": {},
   "source": [
    "### Plotting data "
   ]
  },
  {
   "cell_type": "code",
   "execution_count": 11,
   "metadata": {},
   "outputs": [
    {
     "data": {
      "image/png": "[encoded data removed]",
      "text/plain": [
       "<matplotlib.figure.Figure at 0x7fcd018e9be0>"
      ]
     },
     "metadata": {
      "needs_background": "light"
     },
     "output_type": "display_data"
    }
   ],
   "source": [
    "from matplotlib.pyplot import *\n",
    "figure(figsize=(20,10))\n",
    "xscale(\"log\")\n",
    "yscale(\"log\")\n",
    "xlim(0.9*min(x),1.1*max(x))\n",
    "ylim(0.9*min(y),1.1*max(y))\n",
    "plot(x, y, \"o\", ms=2,color=\"black\",label=\"data\")\n",
    "xlabel(\"Population\")\n",
    "ylabel(\"Observable\")\n",
    "legend(loc=0)\n",
    "show()"
   ]
  }
 ],
 "metadata": {
  "kernelspec": {
   "display_name": "Python 3",
   "language": "python",
   "name": "python3"
  },
  "language_info": {
   "codemirror_mode": {
    "name": "ipython",
    "version": 3
   },
   "file_extension": ".py",
   "mimetype": "text/x-python",
   "name": "python",
   "nbconvert_exporter": "python",
   "pygments_lexer": "ipython3",
   "version": "3.6.9"
  }
 },
 "nbformat": 4,
 "nbformat_minor": 1
}
