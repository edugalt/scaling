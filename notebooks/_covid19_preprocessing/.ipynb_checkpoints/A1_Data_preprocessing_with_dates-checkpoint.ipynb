{
 "cells": [
  {
   "cell_type": "code",
   "execution_count": 32,
   "id": "dcbcbc14",
   "metadata": {},
   "outputs": [],
   "source": [
    "'''libraries list with help showing the version of the libraries being used in this nodebook'''\n",
    "libraries = []\n",
    "import random\n",
    "'''Datasets, arrays and json files'''\n",
    "\n",
    "import pandas as pd\n",
    "import numpy as np\n",
    "import pickle\n",
    "\n",
    "libraries.append('pandas')\n",
    "libraries.append('numpy')\n",
    "libraries.append('pickle')\n",
    "\n",
    "'''Following progress'''\n",
    "from tqdm.notebook import tqdm\n",
    "libraries.append('tqdm')\n",
    "\n",
    "'''Utilities'''\n",
    "import collections\n",
    "from pathlib import Path\n",
    "from datetime import datetime\n",
    "from dateutil.relativedelta import relativedelta\n",
    "import os\n",
    "#import powerlaw \n",
    "libraries.append('collections')\n",
    "libraries.append('pathlib')\n",
    "libraries.append('datetime')\n",
    "libraries.append('os')\n",
    "libraries.append('powerlaw')\n",
    "\n",
    "'''Plots and figures'''\n",
    "%matplotlib notebook\n",
    "\n",
    "import matplotlib.pyplot as plt\n",
    "import plotly.express as px\n",
    "libraries.append('matplotlib')\n",
    "libraries.append('plotly')\n",
    "\n",
    "plt.rcParams[\"figure.facecolor\"] = \"w\"\n",
    "\n",
    "'''Pthon and library version'''\n",
    "import types\n",
    "import pkg_resources\n",
    "import sys\n",
    "from platform import python_version"
   ]
  },
  {
   "cell_type": "code",
   "execution_count": 2,
   "id": "c877195c",
   "metadata": {},
   "outputs": [
    {
     "name": "stdout",
     "output_type": "stream",
     "text": [
      "Version of python installed: 3.8.10 (default, May 19 2021, 11:01:55) \n",
      "[Clang 10.0.0 ]\n",
      "Version of python being used: 3.8.10\n",
      "\n",
      "Non-built in libraries being used:\n",
      "tqdm, version 4.62.3\n",
      "powerlaw, version 1.4.6\n",
      "plotly, version 5.1.0\n",
      "pandas, version 1.3.3\n",
      "numpy, version 1.19.2\n",
      "matplotlib, version 3.4.3\n"
     ]
    }
   ],
   "source": [
    "'''To display version of Software being used'''\n",
    "print('Version of python installed: {}' .format(sys.version))\n",
    "print('Version of python being used: {}' .format(python_version()))\n",
    "print('\\nNon-built in libraries being used:')\n",
    "\n",
    "for m in pkg_resources.working_set:\n",
    "    if m.project_name.lower() in libraries:\n",
    "        print('{}, version {}'.format(m.project_name,m.version))"
   ]
  },
  {
   "cell_type": "code",
   "execution_count": 3,
   "id": "28b31525",
   "metadata": {},
   "outputs": [],
   "source": [
    "def to_check_duplicates(df, col):\n",
    "    '''Helper function to check if there is duplicated in a DataFrame df, on a defined\n",
    "    column col. It will return the duplicated rows, if there is any.'''\n",
    "    ids = df[col]\n",
    "    duplicated = df[ids.isin(ids[ids.duplicated()])]\n",
    "    return duplicated\n",
    "\n",
    "def print_file_names():\n",
    "    '''Helper function to search for files'''\n",
    "    cwd = os.getcwd()  # Get the current working directory (cwd)\n",
    "    files = os.listdir(cwd)  # Get all the files in that directory\n",
    "    print(\"Files in %r: %s\" % (cwd, files))"
   ]
  },
  {
   "cell_type": "code",
   "execution_count": 6,
   "id": "9872adf4",
   "metadata": {},
   "outputs": [],
   "source": [
    "'''Filepath and folders that are going to be used'''\n",
    "filepath = '../../data/covid19/downloaded_data/'\n",
    "folder = ['Brasil/', 'Canada/','Chile/','NSW/','USA/']"
   ]
  },
  {
   "cell_type": "code",
   "execution_count": 7,
   "id": "7f8a4e25",
   "metadata": {},
   "outputs": [
    {
     "name": "stdout",
     "output_type": "stream",
     "text": [
      "AllScales24Oct.pkl            results_covid19_brazil.pickle\r\n",
      "Brazil24Oct.csv               results_covid19_chile.pickle\r\n",
      "Chile_26Oct.csv               x_covid19_NSW.pickle\r\n",
      "Chile_wdates23Sept.csv        x_covid19_USA.pickle\r\n",
      "NSW_SUA_SA2_LGA24Oct.pkl      x_covid19_brazil.pickle\r\n",
      "USA14Oct.csv                  x_covid19_chile.pickle\r\n",
      "USA14Octstate.csv             y_covid19_NSW.pickle\r\n",
      "dataframe_empty_USA.pikle     y_covid19_USA.pickle\r\n",
      "postcodeCases24Oct.csv        y_covid19_brazil.pickle\r\n",
      "postcodeCaseswDates24Oct.csv  y_covid19_chile.pickle\r\n",
      "results_covid19_NSW.pickle\r\n"
     ]
    }
   ],
   "source": [
    "saving_path = '../_generated_files/'\n",
    "!ls {saving_path}"
   ]
  },
  {
   "cell_type": "markdown",
   "id": "4c1a3a84",
   "metadata": {},
   "source": [
    "# Brazil"
   ]
  },
  {
   "cell_type": "code",
   "execution_count": 11,
   "id": "3c873a9d",
   "metadata": {},
   "outputs": [],
   "source": [
    "brazil_dates = pd.read_csv(filepath+'/Brazil/caso.csv.gz', compression='gzip')"
   ]
  },
  {
   "cell_type": "markdown",
   "id": "4081bb41",
   "metadata": {},
   "source": [
    "Filter cities (don't use states)."
   ]
  },
  {
   "cell_type": "code",
   "execution_count": 12,
   "id": "3f91cda2",
   "metadata": {},
   "outputs": [
    {
     "data": {
      "text/plain": [
       "array(['city', 'state'], dtype=object)"
      ]
     },
     "execution_count": 12,
     "metadata": {},
     "output_type": "execute_result"
    }
   ],
   "source": [
    "np.unique(brazil_dates.place_type.values)"
   ]
  },
  {
   "cell_type": "code",
   "execution_count": 13,
   "id": "b91f4d18",
   "metadata": {},
   "outputs": [
    {
     "data": {
      "text/html": [
       "<div>\n",
       "<style scoped>\n",
       "    .dataframe tbody tr th:only-of-type {\n",
       "        vertical-align: middle;\n",
       "    }\n",
       "\n",
       "    .dataframe tbody tr th {\n",
       "        vertical-align: top;\n",
       "    }\n",
       "\n",
       "    .dataframe thead th {\n",
       "        text-align: right;\n",
       "    }\n",
       "</style>\n",
       "<table border=\"1\" class=\"dataframe\">\n",
       "  <thead>\n",
       "    <tr style=\"text-align: right;\">\n",
       "      <th></th>\n",
       "      <th>date</th>\n",
       "      <th>state</th>\n",
       "      <th>city</th>\n",
       "      <th>place_type</th>\n",
       "      <th>confirmed</th>\n",
       "      <th>deaths</th>\n",
       "      <th>order_for_place</th>\n",
       "      <th>is_last</th>\n",
       "      <th>estimated_population_2019</th>\n",
       "      <th>estimated_population</th>\n",
       "      <th>city_ibge_code</th>\n",
       "      <th>confirmed_per_100k_inhabitants</th>\n",
       "      <th>death_rate</th>\n",
       "    </tr>\n",
       "  </thead>\n",
       "  <tbody>\n",
       "    <tr>\n",
       "      <th>588</th>\n",
       "      <td>2021-10-30</td>\n",
       "      <td>AP</td>\n",
       "      <td>Amapá</td>\n",
       "      <td>city</td>\n",
       "      <td>1417</td>\n",
       "      <td>13</td>\n",
       "      <td>542</td>\n",
       "      <td>True</td>\n",
       "      <td>9109.0</td>\n",
       "      <td>9187.0</td>\n",
       "      <td>1600105.0</td>\n",
       "      <td>15423.96865</td>\n",
       "      <td>0.0092</td>\n",
       "    </tr>\n",
       "    <tr>\n",
       "      <th>589</th>\n",
       "      <td>2021-10-29</td>\n",
       "      <td>AP</td>\n",
       "      <td>Amapá</td>\n",
       "      <td>city</td>\n",
       "      <td>1415</td>\n",
       "      <td>13</td>\n",
       "      <td>541</td>\n",
       "      <td>False</td>\n",
       "      <td>9109.0</td>\n",
       "      <td>9187.0</td>\n",
       "      <td>1600105.0</td>\n",
       "      <td>15402.19876</td>\n",
       "      <td>0.0092</td>\n",
       "    </tr>\n",
       "    <tr>\n",
       "      <th>590</th>\n",
       "      <td>2021-10-28</td>\n",
       "      <td>AP</td>\n",
       "      <td>Amapá</td>\n",
       "      <td>city</td>\n",
       "      <td>1413</td>\n",
       "      <td>13</td>\n",
       "      <td>540</td>\n",
       "      <td>False</td>\n",
       "      <td>9109.0</td>\n",
       "      <td>9187.0</td>\n",
       "      <td>1600105.0</td>\n",
       "      <td>15380.42887</td>\n",
       "      <td>0.0092</td>\n",
       "    </tr>\n",
       "    <tr>\n",
       "      <th>591</th>\n",
       "      <td>2021-10-27</td>\n",
       "      <td>AP</td>\n",
       "      <td>Amapá</td>\n",
       "      <td>city</td>\n",
       "      <td>1413</td>\n",
       "      <td>13</td>\n",
       "      <td>539</td>\n",
       "      <td>False</td>\n",
       "      <td>9109.0</td>\n",
       "      <td>9187.0</td>\n",
       "      <td>1600105.0</td>\n",
       "      <td>15380.42887</td>\n",
       "      <td>0.0092</td>\n",
       "    </tr>\n",
       "    <tr>\n",
       "      <th>592</th>\n",
       "      <td>2021-10-26</td>\n",
       "      <td>AP</td>\n",
       "      <td>Amapá</td>\n",
       "      <td>city</td>\n",
       "      <td>1413</td>\n",
       "      <td>13</td>\n",
       "      <td>538</td>\n",
       "      <td>False</td>\n",
       "      <td>9109.0</td>\n",
       "      <td>9187.0</td>\n",
       "      <td>1600105.0</td>\n",
       "      <td>15380.42887</td>\n",
       "      <td>0.0092</td>\n",
       "    </tr>\n",
       "    <tr>\n",
       "      <th>...</th>\n",
       "      <td>...</td>\n",
       "      <td>...</td>\n",
       "      <td>...</td>\n",
       "      <td>...</td>\n",
       "      <td>...</td>\n",
       "      <td>...</td>\n",
       "      <td>...</td>\n",
       "      <td>...</td>\n",
       "      <td>...</td>\n",
       "      <td>...</td>\n",
       "      <td>...</td>\n",
       "      <td>...</td>\n",
       "      <td>...</td>\n",
       "    </tr>\n",
       "    <tr>\n",
       "      <th>2621513</th>\n",
       "      <td>2020-06-23</td>\n",
       "      <td>SP</td>\n",
       "      <td>Óleo</td>\n",
       "      <td>city</td>\n",
       "      <td>1</td>\n",
       "      <td>0</td>\n",
       "      <td>5</td>\n",
       "      <td>False</td>\n",
       "      <td>2496.0</td>\n",
       "      <td>2471.0</td>\n",
       "      <td>3533809.0</td>\n",
       "      <td>40.46945</td>\n",
       "      <td>0.0000</td>\n",
       "    </tr>\n",
       "    <tr>\n",
       "      <th>2621514</th>\n",
       "      <td>2020-06-22</td>\n",
       "      <td>SP</td>\n",
       "      <td>Óleo</td>\n",
       "      <td>city</td>\n",
       "      <td>1</td>\n",
       "      <td>0</td>\n",
       "      <td>4</td>\n",
       "      <td>False</td>\n",
       "      <td>2496.0</td>\n",
       "      <td>2471.0</td>\n",
       "      <td>3533809.0</td>\n",
       "      <td>40.46945</td>\n",
       "      <td>0.0000</td>\n",
       "    </tr>\n",
       "    <tr>\n",
       "      <th>2621515</th>\n",
       "      <td>2020-06-21</td>\n",
       "      <td>SP</td>\n",
       "      <td>Óleo</td>\n",
       "      <td>city</td>\n",
       "      <td>1</td>\n",
       "      <td>0</td>\n",
       "      <td>3</td>\n",
       "      <td>False</td>\n",
       "      <td>2496.0</td>\n",
       "      <td>2471.0</td>\n",
       "      <td>3533809.0</td>\n",
       "      <td>40.46945</td>\n",
       "      <td>0.0000</td>\n",
       "    </tr>\n",
       "    <tr>\n",
       "      <th>2621516</th>\n",
       "      <td>2020-06-20</td>\n",
       "      <td>SP</td>\n",
       "      <td>Óleo</td>\n",
       "      <td>city</td>\n",
       "      <td>1</td>\n",
       "      <td>0</td>\n",
       "      <td>2</td>\n",
       "      <td>False</td>\n",
       "      <td>2496.0</td>\n",
       "      <td>2471.0</td>\n",
       "      <td>3533809.0</td>\n",
       "      <td>40.46945</td>\n",
       "      <td>0.0000</td>\n",
       "    </tr>\n",
       "    <tr>\n",
       "      <th>2621517</th>\n",
       "      <td>2020-06-19</td>\n",
       "      <td>SP</td>\n",
       "      <td>Óleo</td>\n",
       "      <td>city</td>\n",
       "      <td>1</td>\n",
       "      <td>0</td>\n",
       "      <td>1</td>\n",
       "      <td>False</td>\n",
       "      <td>2496.0</td>\n",
       "      <td>2471.0</td>\n",
       "      <td>3533809.0</td>\n",
       "      <td>40.46945</td>\n",
       "      <td>0.0000</td>\n",
       "    </tr>\n",
       "  </tbody>\n",
       "</table>\n",
       "<p>2605494 rows × 13 columns</p>\n",
       "</div>"
      ],
      "text/plain": [
       "               date state   city place_type  confirmed  deaths  \\\n",
       "588      2021-10-30    AP  Amapá       city       1417      13   \n",
       "589      2021-10-29    AP  Amapá       city       1415      13   \n",
       "590      2021-10-28    AP  Amapá       city       1413      13   \n",
       "591      2021-10-27    AP  Amapá       city       1413      13   \n",
       "592      2021-10-26    AP  Amapá       city       1413      13   \n",
       "...             ...   ...    ...        ...        ...     ...   \n",
       "2621513  2020-06-23    SP   Óleo       city          1       0   \n",
       "2621514  2020-06-22    SP   Óleo       city          1       0   \n",
       "2621515  2020-06-21    SP   Óleo       city          1       0   \n",
       "2621516  2020-06-20    SP   Óleo       city          1       0   \n",
       "2621517  2020-06-19    SP   Óleo       city          1       0   \n",
       "\n",
       "         order_for_place  is_last  estimated_population_2019  \\\n",
       "588                  542     True                     9109.0   \n",
       "589                  541    False                     9109.0   \n",
       "590                  540    False                     9109.0   \n",
       "591                  539    False                     9109.0   \n",
       "592                  538    False                     9109.0   \n",
       "...                  ...      ...                        ...   \n",
       "2621513                5    False                     2496.0   \n",
       "2621514                4    False                     2496.0   \n",
       "2621515                3    False                     2496.0   \n",
       "2621516                2    False                     2496.0   \n",
       "2621517                1    False                     2496.0   \n",
       "\n",
       "         estimated_population  city_ibge_code  confirmed_per_100k_inhabitants  \\\n",
       "588                    9187.0       1600105.0                     15423.96865   \n",
       "589                    9187.0       1600105.0                     15402.19876   \n",
       "590                    9187.0       1600105.0                     15380.42887   \n",
       "591                    9187.0       1600105.0                     15380.42887   \n",
       "592                    9187.0       1600105.0                     15380.42887   \n",
       "...                       ...             ...                             ...   \n",
       "2621513                2471.0       3533809.0                        40.46945   \n",
       "2621514                2471.0       3533809.0                        40.46945   \n",
       "2621515                2471.0       3533809.0                        40.46945   \n",
       "2621516                2471.0       3533809.0                        40.46945   \n",
       "2621517                2471.0       3533809.0                        40.46945   \n",
       "\n",
       "         death_rate  \n",
       "588          0.0092  \n",
       "589          0.0092  \n",
       "590          0.0092  \n",
       "591          0.0092  \n",
       "592          0.0092  \n",
       "...             ...  \n",
       "2621513      0.0000  \n",
       "2621514      0.0000  \n",
       "2621515      0.0000  \n",
       "2621516      0.0000  \n",
       "2621517      0.0000  \n",
       "\n",
       "[2605494 rows x 13 columns]"
      ]
     },
     "execution_count": 13,
     "metadata": {},
     "output_type": "execute_result"
    }
   ],
   "source": [
    "brazil_dates = brazil_dates[brazil_dates['place_type'] != 'state']\n",
    "brazil_dates"
   ]
  },
  {
   "cell_type": "markdown",
   "id": "3bd766c9",
   "metadata": {},
   "source": [
    "To select the information that will be usefil in the analysis: City, Cases and population."
   ]
  },
  {
   "cell_type": "code",
   "execution_count": 14,
   "id": "bd2719ee",
   "metadata": {},
   "outputs": [
    {
     "data": {
      "text/html": [
       "<div>\n",
       "<style scoped>\n",
       "    .dataframe tbody tr th:only-of-type {\n",
       "        vertical-align: middle;\n",
       "    }\n",
       "\n",
       "    .dataframe tbody tr th {\n",
       "        vertical-align: top;\n",
       "    }\n",
       "\n",
       "    .dataframe thead th {\n",
       "        text-align: right;\n",
       "    }\n",
       "</style>\n",
       "<table border=\"1\" class=\"dataframe\">\n",
       "  <thead>\n",
       "    <tr style=\"text-align: right;\">\n",
       "      <th></th>\n",
       "      <th>date</th>\n",
       "      <th>state</th>\n",
       "      <th>city_ibge_code</th>\n",
       "      <th>city</th>\n",
       "      <th>confirmed</th>\n",
       "      <th>estimated_population_2019</th>\n",
       "    </tr>\n",
       "  </thead>\n",
       "  <tbody>\n",
       "    <tr>\n",
       "      <th>588</th>\n",
       "      <td>2021-10-30</td>\n",
       "      <td>AP</td>\n",
       "      <td>1600105.0</td>\n",
       "      <td>Amapá(AP)</td>\n",
       "      <td>1417</td>\n",
       "      <td>9109.0</td>\n",
       "    </tr>\n",
       "    <tr>\n",
       "      <th>589</th>\n",
       "      <td>2021-10-29</td>\n",
       "      <td>AP</td>\n",
       "      <td>1600105.0</td>\n",
       "      <td>Amapá(AP)</td>\n",
       "      <td>1415</td>\n",
       "      <td>9109.0</td>\n",
       "    </tr>\n",
       "    <tr>\n",
       "      <th>590</th>\n",
       "      <td>2021-10-28</td>\n",
       "      <td>AP</td>\n",
       "      <td>1600105.0</td>\n",
       "      <td>Amapá(AP)</td>\n",
       "      <td>1413</td>\n",
       "      <td>9109.0</td>\n",
       "    </tr>\n",
       "    <tr>\n",
       "      <th>591</th>\n",
       "      <td>2021-10-27</td>\n",
       "      <td>AP</td>\n",
       "      <td>1600105.0</td>\n",
       "      <td>Amapá(AP)</td>\n",
       "      <td>1413</td>\n",
       "      <td>9109.0</td>\n",
       "    </tr>\n",
       "    <tr>\n",
       "      <th>592</th>\n",
       "      <td>2021-10-26</td>\n",
       "      <td>AP</td>\n",
       "      <td>1600105.0</td>\n",
       "      <td>Amapá(AP)</td>\n",
       "      <td>1413</td>\n",
       "      <td>9109.0</td>\n",
       "    </tr>\n",
       "  </tbody>\n",
       "</table>\n",
       "</div>"
      ],
      "text/plain": [
       "           date state  city_ibge_code       city  confirmed  \\\n",
       "588  2021-10-30    AP       1600105.0  Amapá(AP)       1417   \n",
       "589  2021-10-29    AP       1600105.0  Amapá(AP)       1415   \n",
       "590  2021-10-28    AP       1600105.0  Amapá(AP)       1413   \n",
       "591  2021-10-27    AP       1600105.0  Amapá(AP)       1413   \n",
       "592  2021-10-26    AP       1600105.0  Amapá(AP)       1413   \n",
       "\n",
       "     estimated_population_2019  \n",
       "588                     9109.0  \n",
       "589                     9109.0  \n",
       "590                     9109.0  \n",
       "591                     9109.0  \n",
       "592                     9109.0  "
      ]
     },
     "execution_count": 14,
     "metadata": {},
     "output_type": "execute_result"
    }
   ],
   "source": [
    "brazil_dates = brazil_dates.loc[:,['date','state','city_ibge_code','city', 'confirmed', 'estimated_population_2019']]\n",
    "brazil_dates['city'] = brazil_dates['city']+'('+brazil_dates['state']+')'\n",
    "brazil_dates.head()"
   ]
  },
  {
   "cell_type": "code",
   "execution_count": 15,
   "id": "c04a9cab",
   "metadata": {},
   "outputs": [
    {
     "data": {
      "text/plain": [
       "True"
      ]
     },
     "execution_count": 15,
     "metadata": {},
     "output_type": "execute_result"
    }
   ],
   "source": [
    "brazil_dates['city_ibge_code'].isnull().values.any() #Null values"
   ]
  },
  {
   "cell_type": "code",
   "execution_count": 16,
   "id": "2fb5443e",
   "metadata": {},
   "outputs": [
    {
     "data": {
      "text/html": [
       "<div>\n",
       "<style scoped>\n",
       "    .dataframe tbody tr th:only-of-type {\n",
       "        vertical-align: middle;\n",
       "    }\n",
       "\n",
       "    .dataframe tbody tr th {\n",
       "        vertical-align: top;\n",
       "    }\n",
       "\n",
       "    .dataframe thead th {\n",
       "        text-align: right;\n",
       "    }\n",
       "</style>\n",
       "<table border=\"1\" class=\"dataframe\">\n",
       "  <thead>\n",
       "    <tr style=\"text-align: right;\">\n",
       "      <th></th>\n",
       "      <th>date</th>\n",
       "      <th>state</th>\n",
       "      <th>city_ibge_code</th>\n",
       "      <th>city</th>\n",
       "      <th>confirmed</th>\n",
       "      <th>estimated_population_2019</th>\n",
       "    </tr>\n",
       "  </thead>\n",
       "  <tbody>\n",
       "    <tr>\n",
       "      <th>57993</th>\n",
       "      <td>2021-10-29</td>\n",
       "      <td>DF</td>\n",
       "      <td>NaN</td>\n",
       "      <td>Importados/Indefinidos(DF)</td>\n",
       "      <td>59486</td>\n",
       "      <td>NaN</td>\n",
       "    </tr>\n",
       "    <tr>\n",
       "      <th>57994</th>\n",
       "      <td>2021-10-28</td>\n",
       "      <td>DF</td>\n",
       "      <td>NaN</td>\n",
       "      <td>Importados/Indefinidos(DF)</td>\n",
       "      <td>59469</td>\n",
       "      <td>NaN</td>\n",
       "    </tr>\n",
       "    <tr>\n",
       "      <th>57995</th>\n",
       "      <td>2021-10-27</td>\n",
       "      <td>DF</td>\n",
       "      <td>NaN</td>\n",
       "      <td>Importados/Indefinidos(DF)</td>\n",
       "      <td>59452</td>\n",
       "      <td>NaN</td>\n",
       "    </tr>\n",
       "    <tr>\n",
       "      <th>57996</th>\n",
       "      <td>2021-10-26</td>\n",
       "      <td>DF</td>\n",
       "      <td>NaN</td>\n",
       "      <td>Importados/Indefinidos(DF)</td>\n",
       "      <td>59444</td>\n",
       "      <td>NaN</td>\n",
       "    </tr>\n",
       "    <tr>\n",
       "      <th>57997</th>\n",
       "      <td>2021-10-25</td>\n",
       "      <td>DF</td>\n",
       "      <td>NaN</td>\n",
       "      <td>Importados/Indefinidos(DF)</td>\n",
       "      <td>59417</td>\n",
       "      <td>NaN</td>\n",
       "    </tr>\n",
       "    <tr>\n",
       "      <th>...</th>\n",
       "      <td>...</td>\n",
       "      <td>...</td>\n",
       "      <td>...</td>\n",
       "      <td>...</td>\n",
       "      <td>...</td>\n",
       "      <td>...</td>\n",
       "    </tr>\n",
       "    <tr>\n",
       "      <th>2419960</th>\n",
       "      <td>2020-03-23</td>\n",
       "      <td>SP</td>\n",
       "      <td>NaN</td>\n",
       "      <td>Importados/Indefinidos(SP)</td>\n",
       "      <td>0</td>\n",
       "      <td>NaN</td>\n",
       "    </tr>\n",
       "    <tr>\n",
       "      <th>2419961</th>\n",
       "      <td>2020-03-22</td>\n",
       "      <td>SP</td>\n",
       "      <td>NaN</td>\n",
       "      <td>Importados/Indefinidos(SP)</td>\n",
       "      <td>0</td>\n",
       "      <td>NaN</td>\n",
       "    </tr>\n",
       "    <tr>\n",
       "      <th>2419962</th>\n",
       "      <td>2020-03-21</td>\n",
       "      <td>SP</td>\n",
       "      <td>NaN</td>\n",
       "      <td>Importados/Indefinidos(SP)</td>\n",
       "      <td>0</td>\n",
       "      <td>NaN</td>\n",
       "    </tr>\n",
       "    <tr>\n",
       "      <th>2419963</th>\n",
       "      <td>2020-03-20</td>\n",
       "      <td>SP</td>\n",
       "      <td>NaN</td>\n",
       "      <td>Importados/Indefinidos(SP)</td>\n",
       "      <td>8</td>\n",
       "      <td>NaN</td>\n",
       "    </tr>\n",
       "    <tr>\n",
       "      <th>2419964</th>\n",
       "      <td>2020-03-19</td>\n",
       "      <td>SP</td>\n",
       "      <td>NaN</td>\n",
       "      <td>Importados/Indefinidos(SP)</td>\n",
       "      <td>4</td>\n",
       "      <td>NaN</td>\n",
       "    </tr>\n",
       "  </tbody>\n",
       "</table>\n",
       "<p>9595 rows × 6 columns</p>\n",
       "</div>"
      ],
      "text/plain": [
       "               date state  city_ibge_code                        city  \\\n",
       "57993    2021-10-29    DF             NaN  Importados/Indefinidos(DF)   \n",
       "57994    2021-10-28    DF             NaN  Importados/Indefinidos(DF)   \n",
       "57995    2021-10-27    DF             NaN  Importados/Indefinidos(DF)   \n",
       "57996    2021-10-26    DF             NaN  Importados/Indefinidos(DF)   \n",
       "57997    2021-10-25    DF             NaN  Importados/Indefinidos(DF)   \n",
       "...             ...   ...             ...                         ...   \n",
       "2419960  2020-03-23    SP             NaN  Importados/Indefinidos(SP)   \n",
       "2419961  2020-03-22    SP             NaN  Importados/Indefinidos(SP)   \n",
       "2419962  2020-03-21    SP             NaN  Importados/Indefinidos(SP)   \n",
       "2419963  2020-03-20    SP             NaN  Importados/Indefinidos(SP)   \n",
       "2419964  2020-03-19    SP             NaN  Importados/Indefinidos(SP)   \n",
       "\n",
       "         confirmed  estimated_population_2019  \n",
       "57993        59486                        NaN  \n",
       "57994        59469                        NaN  \n",
       "57995        59452                        NaN  \n",
       "57996        59444                        NaN  \n",
       "57997        59417                        NaN  \n",
       "...            ...                        ...  \n",
       "2419960          0                        NaN  \n",
       "2419961          0                        NaN  \n",
       "2419962          0                        NaN  \n",
       "2419963          8                        NaN  \n",
       "2419964          4                        NaN  \n",
       "\n",
       "[9595 rows x 6 columns]"
      ]
     },
     "execution_count": 16,
     "metadata": {},
     "output_type": "execute_result"
    }
   ],
   "source": [
    "brazil_dates[brazil_dates['city_ibge_code'].isnull()] #no information about city"
   ]
  },
  {
   "cell_type": "markdown",
   "id": "3ac78000",
   "metadata": {},
   "source": [
    "Drop the rows without city information."
   ]
  },
  {
   "cell_type": "code",
   "execution_count": 17,
   "id": "9a010555",
   "metadata": {},
   "outputs": [],
   "source": [
    "brazil_dates = brazil_dates[brazil_dates['city_ibge_code'].notnull()]"
   ]
  },
  {
   "cell_type": "code",
   "execution_count": 18,
   "id": "3c5754dd",
   "metadata": {},
   "outputs": [
    {
     "data": {
      "text/plain": [
       "4614712201"
      ]
     },
     "execution_count": 18,
     "metadata": {},
     "output_type": "execute_result"
    }
   ],
   "source": [
    "brazil_dates.confirmed.sum() #Accumulated numbers. 4,614,712,201. \n",
    "#According to worldometer (2Nov) Brazil COVID: 21,814,693 Cases "
   ]
  },
  {
   "cell_type": "code",
   "execution_count": 19,
   "id": "e3fc77a8",
   "metadata": {},
   "outputs": [
    {
     "data": {
      "text/html": [
       "<div>\n",
       "<style scoped>\n",
       "    .dataframe tbody tr th:only-of-type {\n",
       "        vertical-align: middle;\n",
       "    }\n",
       "\n",
       "    .dataframe tbody tr th {\n",
       "        vertical-align: top;\n",
       "    }\n",
       "\n",
       "    .dataframe thead th {\n",
       "        text-align: right;\n",
       "    }\n",
       "</style>\n",
       "<table border=\"1\" class=\"dataframe\">\n",
       "  <thead>\n",
       "    <tr style=\"text-align: right;\">\n",
       "      <th></th>\n",
       "      <th>date</th>\n",
       "      <th>state</th>\n",
       "      <th>city_ibge_code</th>\n",
       "      <th>city</th>\n",
       "      <th>confirmed</th>\n",
       "      <th>estimated_population_2019</th>\n",
       "    </tr>\n",
       "  </thead>\n",
       "  <tbody>\n",
       "    <tr>\n",
       "      <th>1783706</th>\n",
       "      <td>2021-09-30</td>\n",
       "      <td>RO</td>\n",
       "      <td>1100015.0</td>\n",
       "      <td>Alta Floresta D'Oeste(RO)</td>\n",
       "      <td>4089</td>\n",
       "      <td>22945.0</td>\n",
       "    </tr>\n",
       "    <tr>\n",
       "      <th>1783707</th>\n",
       "      <td>2021-09-29</td>\n",
       "      <td>RO</td>\n",
       "      <td>1100015.0</td>\n",
       "      <td>Alta Floresta D'Oeste(RO)</td>\n",
       "      <td>4085</td>\n",
       "      <td>22945.0</td>\n",
       "    </tr>\n",
       "    <tr>\n",
       "      <th>1783708</th>\n",
       "      <td>2021-09-24</td>\n",
       "      <td>RO</td>\n",
       "      <td>1100015.0</td>\n",
       "      <td>Alta Floresta D'Oeste(RO)</td>\n",
       "      <td>4079</td>\n",
       "      <td>22945.0</td>\n",
       "    </tr>\n",
       "    <tr>\n",
       "      <th>1783709</th>\n",
       "      <td>2021-09-18</td>\n",
       "      <td>RO</td>\n",
       "      <td>1100015.0</td>\n",
       "      <td>Alta Floresta D'Oeste(RO)</td>\n",
       "      <td>4075</td>\n",
       "      <td>22945.0</td>\n",
       "    </tr>\n",
       "    <tr>\n",
       "      <th>1783710</th>\n",
       "      <td>2021-09-05</td>\n",
       "      <td>RO</td>\n",
       "      <td>1100015.0</td>\n",
       "      <td>Alta Floresta D'Oeste(RO)</td>\n",
       "      <td>4065</td>\n",
       "      <td>22945.0</td>\n",
       "    </tr>\n",
       "    <tr>\n",
       "      <th>...</th>\n",
       "      <td>...</td>\n",
       "      <td>...</td>\n",
       "      <td>...</td>\n",
       "      <td>...</td>\n",
       "      <td>...</td>\n",
       "      <td>...</td>\n",
       "    </tr>\n",
       "    <tr>\n",
       "      <th>1784156</th>\n",
       "      <td>2020-05-06</td>\n",
       "      <td>RO</td>\n",
       "      <td>1100015.0</td>\n",
       "      <td>Alta Floresta D'Oeste(RO)</td>\n",
       "      <td>1</td>\n",
       "      <td>22945.0</td>\n",
       "    </tr>\n",
       "    <tr>\n",
       "      <th>1784157</th>\n",
       "      <td>2020-05-05</td>\n",
       "      <td>RO</td>\n",
       "      <td>1100015.0</td>\n",
       "      <td>Alta Floresta D'Oeste(RO)</td>\n",
       "      <td>1</td>\n",
       "      <td>22945.0</td>\n",
       "    </tr>\n",
       "    <tr>\n",
       "      <th>1784158</th>\n",
       "      <td>2020-05-04</td>\n",
       "      <td>RO</td>\n",
       "      <td>1100015.0</td>\n",
       "      <td>Alta Floresta D'Oeste(RO)</td>\n",
       "      <td>1</td>\n",
       "      <td>22945.0</td>\n",
       "    </tr>\n",
       "    <tr>\n",
       "      <th>1784159</th>\n",
       "      <td>2020-05-03</td>\n",
       "      <td>RO</td>\n",
       "      <td>1100015.0</td>\n",
       "      <td>Alta Floresta D'Oeste(RO)</td>\n",
       "      <td>1</td>\n",
       "      <td>22945.0</td>\n",
       "    </tr>\n",
       "    <tr>\n",
       "      <th>1784160</th>\n",
       "      <td>2020-05-02</td>\n",
       "      <td>RO</td>\n",
       "      <td>1100015.0</td>\n",
       "      <td>Alta Floresta D'Oeste(RO)</td>\n",
       "      <td>1</td>\n",
       "      <td>22945.0</td>\n",
       "    </tr>\n",
       "  </tbody>\n",
       "</table>\n",
       "<p>455 rows × 6 columns</p>\n",
       "</div>"
      ],
      "text/plain": [
       "               date state  city_ibge_code                       city  \\\n",
       "1783706  2021-09-30    RO       1100015.0  Alta Floresta D'Oeste(RO)   \n",
       "1783707  2021-09-29    RO       1100015.0  Alta Floresta D'Oeste(RO)   \n",
       "1783708  2021-09-24    RO       1100015.0  Alta Floresta D'Oeste(RO)   \n",
       "1783709  2021-09-18    RO       1100015.0  Alta Floresta D'Oeste(RO)   \n",
       "1783710  2021-09-05    RO       1100015.0  Alta Floresta D'Oeste(RO)   \n",
       "...             ...   ...             ...                        ...   \n",
       "1784156  2020-05-06    RO       1100015.0  Alta Floresta D'Oeste(RO)   \n",
       "1784157  2020-05-05    RO       1100015.0  Alta Floresta D'Oeste(RO)   \n",
       "1784158  2020-05-04    RO       1100015.0  Alta Floresta D'Oeste(RO)   \n",
       "1784159  2020-05-03    RO       1100015.0  Alta Floresta D'Oeste(RO)   \n",
       "1784160  2020-05-02    RO       1100015.0  Alta Floresta D'Oeste(RO)   \n",
       "\n",
       "         confirmed  estimated_population_2019  \n",
       "1783706       4089                    22945.0  \n",
       "1783707       4085                    22945.0  \n",
       "1783708       4079                    22945.0  \n",
       "1783709       4075                    22945.0  \n",
       "1783710       4065                    22945.0  \n",
       "...            ...                        ...  \n",
       "1784156          1                    22945.0  \n",
       "1784157          1                    22945.0  \n",
       "1784158          1                    22945.0  \n",
       "1784159          1                    22945.0  \n",
       "1784160          1                    22945.0  \n",
       "\n",
       "[455 rows x 6 columns]"
      ]
     },
     "execution_count": 19,
     "metadata": {},
     "output_type": "execute_result"
    }
   ],
   "source": [
    "brazil_dates[brazil_dates['city_ibge_code'] == 1100015.]"
   ]
  },
  {
   "cell_type": "code",
   "execution_count": 20,
   "id": "4cb462b8",
   "metadata": {},
   "outputs": [],
   "source": [
    "#Deal with datatypes\n",
    "brazil_dates['estimated_population_2019']= brazil_dates['estimated_population_2019'].astype(np.int)\n",
    "brazil_dates['city_ibge_code']= brazil_dates['city_ibge_code'].astype(np.int)\n",
    "brazil_dates['city_ibge_code']= brazil_dates['city_ibge_code'].astype(np.str)"
   ]
  },
  {
   "cell_type": "code",
   "execution_count": 21,
   "id": "40267576",
   "metadata": {},
   "outputs": [
    {
     "data": {
      "text/plain": [
       "'2020-02-25'"
      ]
     },
     "execution_count": 21,
     "metadata": {},
     "output_type": "execute_result"
    }
   ],
   "source": [
    "brazil_dates.date.min()"
   ]
  },
  {
   "cell_type": "code",
   "execution_count": 22,
   "id": "3f079dab",
   "metadata": {},
   "outputs": [
    {
     "data": {
      "text/plain": [
       "'2021-10-31'"
      ]
     },
     "execution_count": 22,
     "metadata": {},
     "output_type": "execute_result"
    }
   ],
   "source": [
    "brazil_dates.date.max()"
   ]
  },
  {
   "cell_type": "markdown",
   "id": "6fc0432b",
   "metadata": {},
   "source": [
    "To analyse the data, we need to select the last information (accumulated cases) for a given date."
   ]
  },
  {
   "cell_type": "code",
   "execution_count": 23,
   "id": "9df10efe",
   "metadata": {},
   "outputs": [],
   "source": [
    "brazil_dates['date']= pd.to_datetime(brazil_dates['date'])"
   ]
  },
  {
   "cell_type": "code",
   "execution_count": 24,
   "id": "79eafbad",
   "metadata": {},
   "outputs": [
    {
     "name": "stdout",
     "output_type": "stream",
     "text": [
      "<class 'pandas.core.series.Series'>\n"
     ]
    }
   ],
   "source": [
    "print(type(brazil_dates['date']))"
   ]
  },
  {
   "cell_type": "code",
   "execution_count": 25,
   "id": "ac7baa2e",
   "metadata": {},
   "outputs": [
    {
     "data": {
      "text/html": [
       "<div>\n",
       "<style scoped>\n",
       "    .dataframe tbody tr th:only-of-type {\n",
       "        vertical-align: middle;\n",
       "    }\n",
       "\n",
       "    .dataframe tbody tr th {\n",
       "        vertical-align: top;\n",
       "    }\n",
       "\n",
       "    .dataframe thead th {\n",
       "        text-align: right;\n",
       "    }\n",
       "</style>\n",
       "<table border=\"1\" class=\"dataframe\">\n",
       "  <thead>\n",
       "    <tr style=\"text-align: right;\">\n",
       "      <th></th>\n",
       "      <th>date</th>\n",
       "      <th>state</th>\n",
       "      <th>city_ibge_code</th>\n",
       "      <th>city</th>\n",
       "      <th>confirmed</th>\n",
       "      <th>estimated_population_2019</th>\n",
       "    </tr>\n",
       "  </thead>\n",
       "  <tbody>\n",
       "    <tr>\n",
       "      <th>588</th>\n",
       "      <td>2021-10-30</td>\n",
       "      <td>AP</td>\n",
       "      <td>1600105</td>\n",
       "      <td>Amapá(AP)</td>\n",
       "      <td>1417</td>\n",
       "      <td>9109</td>\n",
       "    </tr>\n",
       "    <tr>\n",
       "      <th>589</th>\n",
       "      <td>2021-10-29</td>\n",
       "      <td>AP</td>\n",
       "      <td>1600105</td>\n",
       "      <td>Amapá(AP)</td>\n",
       "      <td>1415</td>\n",
       "      <td>9109</td>\n",
       "    </tr>\n",
       "    <tr>\n",
       "      <th>590</th>\n",
       "      <td>2021-10-28</td>\n",
       "      <td>AP</td>\n",
       "      <td>1600105</td>\n",
       "      <td>Amapá(AP)</td>\n",
       "      <td>1413</td>\n",
       "      <td>9109</td>\n",
       "    </tr>\n",
       "    <tr>\n",
       "      <th>591</th>\n",
       "      <td>2021-10-27</td>\n",
       "      <td>AP</td>\n",
       "      <td>1600105</td>\n",
       "      <td>Amapá(AP)</td>\n",
       "      <td>1413</td>\n",
       "      <td>9109</td>\n",
       "    </tr>\n",
       "    <tr>\n",
       "      <th>592</th>\n",
       "      <td>2021-10-26</td>\n",
       "      <td>AP</td>\n",
       "      <td>1600105</td>\n",
       "      <td>Amapá(AP)</td>\n",
       "      <td>1413</td>\n",
       "      <td>9109</td>\n",
       "    </tr>\n",
       "  </tbody>\n",
       "</table>\n",
       "</div>"
      ],
      "text/plain": [
       "          date state city_ibge_code       city  confirmed  \\\n",
       "588 2021-10-30    AP        1600105  Amapá(AP)       1417   \n",
       "589 2021-10-29    AP        1600105  Amapá(AP)       1415   \n",
       "590 2021-10-28    AP        1600105  Amapá(AP)       1413   \n",
       "591 2021-10-27    AP        1600105  Amapá(AP)       1413   \n",
       "592 2021-10-26    AP        1600105  Amapá(AP)       1413   \n",
       "\n",
       "     estimated_population_2019  \n",
       "588                       9109  \n",
       "589                       9109  \n",
       "590                       9109  \n",
       "591                       9109  \n",
       "592                       9109  "
      ]
     },
     "execution_count": 25,
     "metadata": {},
     "output_type": "execute_result"
    }
   ],
   "source": [
    "brazil_dates.head()"
   ]
  },
  {
   "cell_type": "markdown",
   "id": "26c62b99",
   "metadata": {},
   "source": [
    "Build a new dataset with uniqe city_ibge_code, city, and population. \n",
    "Add the last register closer to the cut date per city. If it is not found (in the sliced dataset), then confirmed cases until that date = 0."
   ]
  },
  {
   "cell_type": "code",
   "execution_count": 26,
   "id": "21433540",
   "metadata": {},
   "outputs": [
    {
     "data": {
      "text/html": [
       "<div>\n",
       "<style scoped>\n",
       "    .dataframe tbody tr th:only-of-type {\n",
       "        vertical-align: middle;\n",
       "    }\n",
       "\n",
       "    .dataframe tbody tr th {\n",
       "        vertical-align: top;\n",
       "    }\n",
       "\n",
       "    .dataframe thead th {\n",
       "        text-align: right;\n",
       "    }\n",
       "</style>\n",
       "<table border=\"1\" class=\"dataframe\">\n",
       "  <thead>\n",
       "    <tr style=\"text-align: right;\">\n",
       "      <th></th>\n",
       "      <th>city_ibge_code</th>\n",
       "      <th>city</th>\n",
       "      <th>estimated_population_2019</th>\n",
       "    </tr>\n",
       "  </thead>\n",
       "  <tbody>\n",
       "    <tr>\n",
       "      <th>0</th>\n",
       "      <td>1600105</td>\n",
       "      <td>Amapá(AP)</td>\n",
       "      <td>9109</td>\n",
       "    </tr>\n",
       "    <tr>\n",
       "      <th>1</th>\n",
       "      <td>1600204</td>\n",
       "      <td>Calçoene(AP)</td>\n",
       "      <td>11117</td>\n",
       "    </tr>\n",
       "    <tr>\n",
       "      <th>2</th>\n",
       "      <td>1600212</td>\n",
       "      <td>Cutias(AP)</td>\n",
       "      <td>5983</td>\n",
       "    </tr>\n",
       "    <tr>\n",
       "      <th>3</th>\n",
       "      <td>1600238</td>\n",
       "      <td>Ferreira Gomes(AP)</td>\n",
       "      <td>7780</td>\n",
       "    </tr>\n",
       "    <tr>\n",
       "      <th>4</th>\n",
       "      <td>1600253</td>\n",
       "      <td>Itaubal(AP)</td>\n",
       "      <td>5503</td>\n",
       "    </tr>\n",
       "  </tbody>\n",
       "</table>\n",
       "</div>"
      ],
      "text/plain": [
       "  city_ibge_code                city  estimated_population_2019\n",
       "0        1600105           Amapá(AP)                       9109\n",
       "1        1600204        Calçoene(AP)                      11117\n",
       "2        1600212          Cutias(AP)                       5983\n",
       "3        1600238  Ferreira Gomes(AP)                       7780\n",
       "4        1600253         Itaubal(AP)                       5503"
      ]
     },
     "execution_count": 26,
     "metadata": {},
     "output_type": "execute_result"
    }
   ],
   "source": [
    "new_brazil = brazil_dates[['city_ibge_code','city','estimated_population_2019']].drop_duplicates().reset_index(drop=True)\n",
    "new_brazil.to_pickle(saving_path+\"/dataframe_empty_brazil.pikle\")\n",
    "new_brazil.head()"
   ]
  },
  {
   "cell_type": "code",
   "execution_count": 173,
   "id": "09022541",
   "metadata": {},
   "outputs": [
    {
     "data": {
      "text/html": [
       "<div>\n",
       "<style scoped>\n",
       "    .dataframe tbody tr th:only-of-type {\n",
       "        vertical-align: middle;\n",
       "    }\n",
       "\n",
       "    .dataframe tbody tr th {\n",
       "        vertical-align: top;\n",
       "    }\n",
       "\n",
       "    .dataframe thead th {\n",
       "        text-align: right;\n",
       "    }\n",
       "</style>\n",
       "<table border=\"1\" class=\"dataframe\">\n",
       "  <thead>\n",
       "    <tr style=\"text-align: right;\">\n",
       "      <th></th>\n",
       "      <th>city_ibge_code</th>\n",
       "      <th>city</th>\n",
       "      <th>estimated_population_2019</th>\n",
       "    </tr>\n",
       "  </thead>\n",
       "  <tbody>\n",
       "  </tbody>\n",
       "</table>\n",
       "</div>"
      ],
      "text/plain": [
       "Empty DataFrame\n",
       "Columns: [city_ibge_code, city, estimated_population_2019]\n",
       "Index: []"
      ]
     },
     "execution_count": 173,
     "metadata": {},
     "output_type": "execute_result"
    }
   ],
   "source": [
    "#To check duplicates\n",
    "len(to_check_duplicates(new_brazil, 'city_ibge_code')) #None\n",
    "to_check_duplicates(new_brazil, 'city').sort_values(by='city') "
   ]
  },
  {
   "cell_type": "code",
   "execution_count": 27,
   "id": "0e3b0b3d",
   "metadata": {},
   "outputs": [
    {
     "data": {
      "text/plain": [
       "Timestamp('2021-10-31 00:00:00')"
      ]
     },
     "execution_count": 27,
     "metadata": {},
     "output_type": "execute_result"
    }
   ],
   "source": [
    "brazil_dates.date.max()"
   ]
  },
  {
   "cell_type": "code",
   "execution_count": 28,
   "id": "cd617ff6",
   "metadata": {},
   "outputs": [
    {
     "data": {
      "text/plain": [
       "Timestamp('2020-02-25 00:00:00')"
      ]
     },
     "execution_count": 28,
     "metadata": {},
     "output_type": "execute_result"
    }
   ],
   "source": [
    "brazil_dates.date.min()"
   ]
  },
  {
   "cell_type": "code",
   "execution_count": 42,
   "id": "68aeb3af",
   "metadata": {},
   "outputs": [],
   "source": [
    "def cut_by_num_days(df, start_delay, end_delay):\n",
    "    start_date = df.date.min()+relativedelta(days=start_delay)\n",
    "    end_date = start_date + relativedelta(days=end_delay)\n",
    "    if end_date > df.date.max():\n",
    "        end_date = df.date.max()\n",
    "    df = df.copy()\n",
    "    after_start_date = df[\"date\"] >= start_date\n",
    "    before_end_date = df[\"date\"] <= end_date\n",
    "    between_two_dates = after_start_date & before_end_date\n",
    "    filtered_dates = df.loc[between_two_dates]\n",
    "    filtered_dates = filtered_dates.sort_values('date').drop_duplicates('city_ibge_code',keep='last')\n",
    "    filtered_dates = filtered_dates.reset_index(drop=True)\n",
    " \n",
    "    new_brazil = pd.read_pickle(saving_path+\"/dataframe_empty_brazil.pikle\")\n",
    "    merged = new_brazil.merge(filtered_dates, how='left', on='city_ibge_code', copy=False)\n",
    "    #Fill NaN values with zeros (not in the sliced dataframe means no cases)\n",
    "    merged['confirmed'] = merged['confirmed'].fillna(0)\n",
    "\n",
    "\n",
    "    #Keep the relevant columns in the right format\n",
    "    merged = merged[['city_x','estimated_population_2019_x','confirmed']]\n",
    "    merged['confirmed']= merged['confirmed'].astype(np.int)\n",
    "    \n",
    "    #Rename to simpler names\n",
    "    merged =merged.rename(columns={'city_x': 'city', \n",
    "                                   'estimated_population_2019_x': 'population',\n",
    "                                   'confirmed':'cases'})\n",
    "    return merged"
   ]
  },
  {
   "cell_type": "code",
   "execution_count": 43,
   "id": "72479947",
   "metadata": {},
   "outputs": [
    {
     "name": "stdout",
     "output_type": "stream",
     "text": [
      "210147125\n",
      "2891\n"
     ]
    },
    {
     "data": {
      "text/plain": [
       "(5570, 3)"
      ]
     },
     "execution_count": 43,
     "metadata": {},
     "output_type": "execute_result"
    }
   ],
   "source": [
    "df = cut_by_num_days(brazil_dates, start_delay=0, end_delay=30)\n",
    "print(df.population.sum())\n",
    "print(df.cases.sum())\n",
    "df.shape"
   ]
  },
  {
   "cell_type": "code",
   "execution_count": 44,
   "id": "d7ca1baf",
   "metadata": {},
   "outputs": [
    {
     "name": "stdout",
     "output_type": "stream",
     "text": [
      "210147125\n",
      "616223\n"
     ]
    },
    {
     "data": {
      "text/plain": [
       "(5570, 3)"
      ]
     },
     "execution_count": 44,
     "metadata": {},
     "output_type": "execute_result"
    }
   ],
   "source": [
    "df = cut_by_num_days(brazil_dates, start_delay=0, end_delay=100)\n",
    "print(df.population.sum())\n",
    "print(df.cases.sum())\n",
    "df.shape"
   ]
  },
  {
   "cell_type": "code",
   "execution_count": 45,
   "id": "049824f6",
   "metadata": {},
   "outputs": [
    {
     "data": {
      "text/html": [
       "<div>\n",
       "<style scoped>\n",
       "    .dataframe tbody tr th:only-of-type {\n",
       "        vertical-align: middle;\n",
       "    }\n",
       "\n",
       "    .dataframe tbody tr th {\n",
       "        vertical-align: top;\n",
       "    }\n",
       "\n",
       "    .dataframe thead th {\n",
       "        text-align: right;\n",
       "    }\n",
       "</style>\n",
       "<table border=\"1\" class=\"dataframe\">\n",
       "  <thead>\n",
       "    <tr style=\"text-align: right;\">\n",
       "      <th></th>\n",
       "      <th>city</th>\n",
       "      <th>population</th>\n",
       "      <th>cases</th>\n",
       "    </tr>\n",
       "  </thead>\n",
       "  <tbody>\n",
       "    <tr>\n",
       "      <th>0</th>\n",
       "      <td>Amapá(AP)</td>\n",
       "      <td>9109</td>\n",
       "      <td>119</td>\n",
       "    </tr>\n",
       "    <tr>\n",
       "      <th>1</th>\n",
       "      <td>Calçoene(AP)</td>\n",
       "      <td>11117</td>\n",
       "      <td>142</td>\n",
       "    </tr>\n",
       "    <tr>\n",
       "      <th>2</th>\n",
       "      <td>Cutias(AP)</td>\n",
       "      <td>5983</td>\n",
       "      <td>159</td>\n",
       "    </tr>\n",
       "    <tr>\n",
       "      <th>3</th>\n",
       "      <td>Ferreira Gomes(AP)</td>\n",
       "      <td>7780</td>\n",
       "      <td>123</td>\n",
       "    </tr>\n",
       "    <tr>\n",
       "      <th>4</th>\n",
       "      <td>Itaubal(AP)</td>\n",
       "      <td>5503</td>\n",
       "      <td>77</td>\n",
       "    </tr>\n",
       "  </tbody>\n",
       "</table>\n",
       "</div>"
      ],
      "text/plain": [
       "                 city  population  cases\n",
       "0           Amapá(AP)        9109    119\n",
       "1        Calçoene(AP)       11117    142\n",
       "2          Cutias(AP)        5983    159\n",
       "3  Ferreira Gomes(AP)        7780    123\n",
       "4         Itaubal(AP)        5503     77"
      ]
     },
     "execution_count": 45,
     "metadata": {},
     "output_type": "execute_result"
    }
   ],
   "source": [
    "df.head()"
   ]
  },
  {
   "cell_type": "code",
   "execution_count": 46,
   "id": "d73ce9dc",
   "metadata": {},
   "outputs": [
    {
     "data": {
      "text/plain": [
       "21495588"
      ]
     },
     "execution_count": 46,
     "metadata": {},
     "output_type": "execute_result"
    }
   ],
   "source": [
    "df = cut_by_num_days(brazil_dates, start_delay=0, end_delay=700)\n",
    "df.cases.sum()  #21.495.588 cases in total. close to the actual value."
   ]
  },
  {
   "cell_type": "code",
   "execution_count": 47,
   "id": "2e3230de",
   "metadata": {},
   "outputs": [
    {
     "data": {
      "text/html": [
       "<div>\n",
       "<style scoped>\n",
       "    .dataframe tbody tr th:only-of-type {\n",
       "        vertical-align: middle;\n",
       "    }\n",
       "\n",
       "    .dataframe tbody tr th {\n",
       "        vertical-align: top;\n",
       "    }\n",
       "\n",
       "    .dataframe thead th {\n",
       "        text-align: right;\n",
       "    }\n",
       "</style>\n",
       "<table border=\"1\" class=\"dataframe\">\n",
       "  <thead>\n",
       "    <tr style=\"text-align: right;\">\n",
       "      <th></th>\n",
       "      <th>city</th>\n",
       "      <th>population</th>\n",
       "      <th>cases</th>\n",
       "    </tr>\n",
       "  </thead>\n",
       "  <tbody>\n",
       "    <tr>\n",
       "      <th>2835</th>\n",
       "      <td>Serra da Saudade(MG)</td>\n",
       "      <td>781</td>\n",
       "      <td>57</td>\n",
       "    </tr>\n",
       "    <tr>\n",
       "      <th>5001</th>\n",
       "      <td>Borá(SP)</td>\n",
       "      <td>837</td>\n",
       "      <td>127</td>\n",
       "    </tr>\n",
       "    <tr>\n",
       "      <th>1433</th>\n",
       "      <td>Araguainha(MT)</td>\n",
       "      <td>935</td>\n",
       "      <td>29</td>\n",
       "    </tr>\n",
       "    <tr>\n",
       "      <th>4355</th>\n",
       "      <td>Engenho Velho(RS)</td>\n",
       "      <td>1034</td>\n",
       "      <td>182</td>\n",
       "    </tr>\n",
       "    <tr>\n",
       "      <th>4872</th>\n",
       "      <td>Oliveira de Fátima(TO)</td>\n",
       "      <td>1112</td>\n",
       "      <td>147</td>\n",
       "    </tr>\n",
       "    <tr>\n",
       "      <th>...</th>\n",
       "      <td>...</td>\n",
       "      <td>...</td>\n",
       "      <td>...</td>\n",
       "    </tr>\n",
       "    <tr>\n",
       "      <th>261</th>\n",
       "      <td>Fortaleza(CE)</td>\n",
       "      <td>2669342</td>\n",
       "      <td>256441</td>\n",
       "    </tr>\n",
       "    <tr>\n",
       "      <th>1044</th>\n",
       "      <td>Salvador(BA)</td>\n",
       "      <td>2872347</td>\n",
       "      <td>237137</td>\n",
       "    </tr>\n",
       "    <tr>\n",
       "      <th>100</th>\n",
       "      <td>Brasília(DF)</td>\n",
       "      <td>3015268</td>\n",
       "      <td>455247</td>\n",
       "    </tr>\n",
       "    <tr>\n",
       "      <th>3037</th>\n",
       "      <td>Rio de Janeiro(RJ)</td>\n",
       "      <td>6718903</td>\n",
       "      <td>484433</td>\n",
       "    </tr>\n",
       "    <tr>\n",
       "      <th>5497</th>\n",
       "      <td>São Paulo(SP)</td>\n",
       "      <td>12252023</td>\n",
       "      <td>969604</td>\n",
       "    </tr>\n",
       "  </tbody>\n",
       "</table>\n",
       "<p>5570 rows × 3 columns</p>\n",
       "</div>"
      ],
      "text/plain": [
       "                        city  population   cases\n",
       "2835    Serra da Saudade(MG)         781      57\n",
       "5001                Borá(SP)         837     127\n",
       "1433          Araguainha(MT)         935      29\n",
       "4355       Engenho Velho(RS)        1034     182\n",
       "4872  Oliveira de Fátima(TO)        1112     147\n",
       "...                      ...         ...     ...\n",
       "261            Fortaleza(CE)     2669342  256441\n",
       "1044            Salvador(BA)     2872347  237137\n",
       "100             Brasília(DF)     3015268  455247\n",
       "3037      Rio de Janeiro(RJ)     6718903  484433\n",
       "5497           São Paulo(SP)    12252023  969604\n",
       "\n",
       "[5570 rows x 3 columns]"
      ]
     },
     "execution_count": 47,
     "metadata": {},
     "output_type": "execute_result"
    }
   ],
   "source": [
    "df.sort_values(by=['population'])"
   ]
  },
  {
   "cell_type": "markdown",
   "id": "58b235f6",
   "metadata": {},
   "source": [
    "Select some interesting points to analize the fitting of the models."
   ]
  },
  {
   "cell_type": "code",
   "execution_count": 52,
   "id": "90d31cca",
   "metadata": {},
   "outputs": [],
   "source": [
    "list_delays = [25, 30, 35, 38]\n",
    "for end_delay in list_delays:\n",
    "    df = cut_by_num_days(brazil_dates, start_delay=0, end_delay=end_delay)\n",
    "    file_name = saving_path+'Brazil_by_dates/Brazil_'+str(end_delay)\n",
    "    df.cases.sum()\n",
    "    df.to_csv(file_name+'.csv' , header=['cities', 'population', 'cases'],index = False)\n",
    "    txt_file = file_name+'txt'\n",
    "    frame=pd.DataFrame(df.values, columns = [\"#city\", \"population\", \"cases\"])\n",
    "    frame.to_csv(txt_file, index=None, sep=',', mode='a')"
   ]
  },
  {
   "cell_type": "code",
   "execution_count": 54,
   "id": "2f728b98",
   "metadata": {},
   "outputs": [],
   "source": [
    "n = []\n",
    "i = 45\n",
    "while i < 300:\n",
    "    n.append(i)\n",
    "    i+=10\n",
    "for end_delay in n:\n",
    "    df = cut_by_num_days(brazil_dates, start_delay=0, end_delay=end_delay)\n",
    "    file_name = saving_path+'Brazil_by_dates/Brazil_'+str(end_delay)\n",
    "    df.cases.sum()\n",
    "    df.to_csv(file_name+'.csv' , header=['cities', 'population', 'cases'],index = False)\n",
    "    txt_file = file_name+'txt'\n",
    "    frame=pd.DataFrame(df.values, columns = [\"#city\", \"population\", \"cases\"])\n",
    "    frame.to_csv(txt_file, index=None, sep=',', mode='a')"
   ]
  },
  {
   "cell_type": "code",
   "execution_count": 59,
   "id": "fea0b091",
   "metadata": {},
   "outputs": [],
   "source": [
    "for d in n:\n",
    "    list_delays.append(d)"
   ]
  },
  {
   "cell_type": "code",
   "execution_count": 53,
   "id": "b6676e77",
   "metadata": {},
   "outputs": [],
   "source": [
    "n = []\n",
    "i = 300\n",
    "while i < 500:\n",
    "    n.append(i)\n",
    "    i+=10\n",
    "for end_delay in n:\n",
    "    df = cut_by_num_days(brazil_dates, start_delay=0, end_delay=end_delay)\n",
    "    file_name = saving_path+'Brazil_by_dates/Brazil_'+str(end_delay)\n",
    "    df.cases.sum()\n",
    "    df.to_csv(file_name+'.csv' , header=['cities', 'population', 'cases'],index = False)\n",
    "    txt_file = file_name+'txt'\n",
    "    frame=pd.DataFrame(df.values, columns = [\"#city\", \"population\", \"cases\"])\n",
    "    frame.to_csv(txt_file, index=None, sep=',', mode='a')"
   ]
  },
  {
   "cell_type": "code",
   "execution_count": 61,
   "id": "a0dd6c08",
   "metadata": {},
   "outputs": [],
   "source": [
    "for d in n:\n",
    "    list_delays.append(d)"
   ]
  },
  {
   "cell_type": "code",
   "execution_count": 65,
   "id": "8d357e37",
   "metadata": {},
   "outputs": [],
   "source": [
    "with open(saving_path+\"/list_delays_Brazil.pikle\", 'wb') as f:\n",
    "    pickle.dump(list_delays, f)"
   ]
  },
  {
   "cell_type": "markdown",
   "id": "d8509201",
   "metadata": {},
   "source": [
    "Where Brazil stopped to have zero cases in some places?"
   ]
  },
  {
   "cell_type": "code",
   "execution_count": 66,
   "id": "3e5fa9ca",
   "metadata": {},
   "outputs": [
    {
     "data": {
      "text/html": [
       "<div>\n",
       "<style scoped>\n",
       "    .dataframe tbody tr th:only-of-type {\n",
       "        vertical-align: middle;\n",
       "    }\n",
       "\n",
       "    .dataframe tbody tr th {\n",
       "        vertical-align: top;\n",
       "    }\n",
       "\n",
       "    .dataframe thead th {\n",
       "        text-align: right;\n",
       "    }\n",
       "</style>\n",
       "<table border=\"1\" class=\"dataframe\">\n",
       "  <thead>\n",
       "    <tr style=\"text-align: right;\">\n",
       "      <th></th>\n",
       "      <th>city</th>\n",
       "      <th>population</th>\n",
       "      <th>cases</th>\n",
       "    </tr>\n",
       "  </thead>\n",
       "  <tbody>\n",
       "  </tbody>\n",
       "</table>\n",
       "</div>"
      ],
      "text/plain": [
       "Empty DataFrame\n",
       "Columns: [city, population, cases]\n",
       "Index: []"
      ]
     },
     "execution_count": 66,
     "metadata": {},
     "output_type": "execute_result"
    }
   ],
   "source": [
    "df = cut_by_num_days(brazil_dates, start_delay=0, end_delay=293)\n",
    "df[df['cases']==0]"
   ]
  }
 ],
 "metadata": {
  "kernelspec": {
   "display_name": "Python 3 (ipykernel)",
   "language": "python",
   "name": "python3"
  },
  "language_info": {
   "codemirror_mode": {
    "name": "ipython",
    "version": 3
   },
   "file_extension": ".py",
   "mimetype": "text/x-python",
   "name": "python",
   "nbconvert_exporter": "python",
   "pygments_lexer": "ipython3",
   "version": "3.8.10"
  }
 },
 "nbformat": 4,
 "nbformat_minor": 5
}
