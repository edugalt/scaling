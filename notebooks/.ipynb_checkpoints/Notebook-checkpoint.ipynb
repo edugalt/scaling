{
 "cells": [
  {
   "cell_type": "markdown",
   "metadata": {},
   "source": [
    "# Notebook for the fitting of scaling laws"
   ]
  },
  {
   "cell_type": "markdown",
   "metadata": {},
   "source": [
    "- For details see: \n",
    "\n",
    "-- Is this scaling non-linear?, from Jorge C. Leitão, José M. Miotto, Martin Gerlach, and Eduardo G. Altmann,\n",
    "DOI: 10.1098/rsos.150649.\n",
    "http://rsos.royalsocietypublishing.org/content/3/7/150649\n",
    "\n",
    "- Remove results from folder \"_results\" to ensure original computations (instead of reading from stored results)"
   ]
  },
  {
   "cell_type": "code",
   "execution_count": 3,
   "metadata": {},
   "outputs": [
    {
     "name": "stdout",
     "output_type": "stream",
     "text": [
      "The autoreload extension is already loaded. To reload it, use:\n",
      "  %reload_ext autoreload\n"
     ]
    }
   ],
   "source": [
    "import sys\n",
    "import numpy as np\n",
    "\n",
    "sys.path.append(\"../src/\")\n",
    "sys.path.append(\"../data/\")\n",
    "\n",
    "\n",
    "import analysis as a\n",
    "MIN_VALUE = 10**-8\n",
    "\n",
    "%load_ext autoreload\n",
    "%autoreload 2\n",
    "\n",
    "%matplotlib inline\n",
    "def summary(func):\n",
    "    print(func.description,'\\t Dataset:',func.dataset)\n",
    "    print('Beta +- error:\\t',func.beta)\n",
    "    print('P-value:\\t',func.p_value)\n",
    "    print('BIC:\\t\\t',func.bic,'\\n')"
   ]
  },
  {
   "cell_type": "code",
   "execution_count": 4,
   "metadata": {},
   "outputs": [
    {
     "name": "stdout",
     "output_type": "stream",
     "text": [
      "+ brazil_aids_2010 worked\n",
      "+ brazil_gdp_2010 worked\n",
      "+ brazil_externalCauses_2010 worked\n",
      "- ocde_gdp failed\n",
      "- ocde_patents failed\n",
      "- usa_gdp failed\n",
      "+ usa_miles worked\n",
      "- eurostat_cinema_seats failed\n",
      "- eurostat_cinema_attendance failed\n",
      "- eurostat_museum_visitors failed\n",
      "- eurostat_theaters failed\n",
      "- eurostat_libraries failed\n",
      "- uk_patents failed\n",
      "- uk_income failed\n",
      "- uk_train failed\n",
      "- new_dataset failed\n",
      "- new_dataset2 failed\n"
     ]
    }
   ],
   "source": [
    "for d in a.DATABASES:\n",
    "    try:\n",
    "        a.Analysis(d)\n",
    "        print(\"+\",d,\"worked\")\n",
    "    except:\n",
    "        print(\"-\",d,\"failed\")"
   ]
  },
  {
   "cell_type": "markdown",
   "metadata": {},
   "source": [
    "## Choose the dataset \n",
    "\n",
    "- by setting the variable dataset=\"name\"\n",
    "\n",
    "- Pick one of the available datasets (write 'help' as the name of the dataset for a list)\n",
    "\n",
    "- Or, add your csv dataset to the appropriate folder:\n",
    "\n",
    "-- New dataset with three columns (name,x,y) = (city-name, population, observable) to folder new_dataset/\n",
    "\n",
    "-- New dataset with two columns (x,y) = (population, observable) to folder new_dataset2/"
   ]
  },
  {
   "cell_type": "code",
   "execution_count": 5,
   "metadata": {},
   "outputs": [],
   "source": [
    "dataset=\"usa_miles\"\n",
    "\n",
    "try:\n",
    "    x=a.xy(dataset).x\n",
    "    y=a.xy(dataset).y\n",
    "except:\n",
    "    print(\"Invalid Dataset Chosen. Available datasets are:\\n\")\n",
    "    for i in a.DATABASES:\n",
    "        print(i)\n",
    "\n",
    "#Deleting all calculations for previously load new datasets\n",
    "if dataset.startswith(\"new_dataset\"):\n",
    "    %rm _results/*new_dataset*"
   ]
  },
  {
   "cell_type": "markdown",
   "metadata": {},
   "source": [
    "# Performing Analysis"
   ]
  },
  {
   "cell_type": "markdown",
   "metadata": {},
   "source": [
    " - Each line is one of the models, with specific constrains. Further constrains cna be fixed in each model.\n",
    " \n",
    " - This can take some time (at least a couple of minutes)\n",
    "\n",
    " - Increase the \"required_successes=\" parameter to increase precision (and computational time) "
   ]
  },
  {
   "cell_type": "markdown",
   "metadata": {},
   "source": [
    "## Log-Normal"
   ]
  },
  {
   "cell_type": "code",
   "execution_count": null,
   "metadata": {},
   "outputs": [],
   "source": [
    "ln = a.LogNormalAnalysis(dataset, required_successes=8)"
   ]
  },
  {
   "cell_type": "code",
   "execution_count": null,
   "metadata": {},
   "outputs": [],
   "source": [
    "ln_beta1=a.LogNormalFixedBetaAnalysis(dataset,required_successes=8)"
   ]
  },
  {
   "cell_type": "code",
   "execution_count": null,
   "metadata": {},
   "outputs": [],
   "source": [
    "ln_deltaf=a.LogNormalFixedDAnalysis(dataset,required_successes=8)"
   ]
  },
  {
   "cell_type": "markdown",
   "metadata": {},
   "source": [
    "##  Gaussian"
   ]
  },
  {
   "cell_type": "code",
   "execution_count": null,
   "metadata": {},
   "outputs": [],
   "source": [
    "Gauss=a.ConstrainedDAnalysis(dataset,required_successes=8)"
   ]
  },
  {
   "cell_type": "code",
   "execution_count": null,
   "metadata": {},
   "outputs": [],
   "source": [
    "Gauss_beta1=a.ConstrainedDFixedBetaAnalysis(dataset,required_successes=8)"
   ]
  },
  {
   "cell_type": "markdown",
   "metadata": {},
   "source": [
    "## Population"
   ]
  },
  {
   "cell_type": "code",
   "execution_count": null,
   "metadata": {},
   "outputs": [],
   "source": [
    "Pop=a.PopulationAnalysis(dataset,required_successes=8)"
   ]
  },
  {
   "cell_type": "code",
   "execution_count": null,
   "metadata": {},
   "outputs": [],
   "source": [
    "Pop2=a.PopulationFixedGammaAnalysis(dataset,required_successes=8)"
   ]
  },
  {
   "cell_type": "markdown",
   "metadata": {},
   "source": [
    "# Outcome of the Analysis "
   ]
  },
  {
   "cell_type": "markdown",
   "metadata": {},
   "source": [
    "### Printing the outcomes"
   ]
  },
  {
   "cell_type": "code",
   "execution_count": null,
   "metadata": {},
   "outputs": [],
   "source": [
    "summary(ln)\n",
    "summary(ln_beta1)\n",
    "summary(ln_deltaf)\n",
    "summary(Gauss)\n",
    "summary(Gauss_beta1)\n",
    "summary(Pop)\n",
    "summary(Pop2)\n",
    "\n",
    "print(\"\\n Least Square fitting:\",a.mls_best_fit(np.log(x),np.log(y)))"
   ]
  },
  {
   "cell_type": "markdown",
   "metadata": {},
   "source": [
    "### Plotting data "
   ]
  },
  {
   "cell_type": "code",
   "execution_count": null,
   "metadata": {},
   "outputs": [],
   "source": [
    "from matplotlib.pyplot import *\n",
    "figure(figsize=(20,10))\n",
    "xscale(\"log\")\n",
    "yscale(\"log\")\n",
    "xlim(0.9*min(x),1.1*max(x))\n",
    "ylim(0.9*min(y),1.1*max(y))\n",
    "plot(x, y, \"o\", ms=2,color=\"black\",label=\"data\")\n",
    "xlabel(\"Population\")\n",
    "ylabel(\"Observable\")\n",
    "legend(loc=0)\n",
    "show()"
   ]
  },
  {
   "cell_type": "code",
   "execution_count": null,
   "metadata": {},
   "outputs": [],
   "source": []
  },
  {
   "cell_type": "code",
   "execution_count": null,
   "metadata": {},
   "outputs": [],
   "source": []
  }
 ],
 "metadata": {
  "kernelspec": {
   "display_name": "Python 3",
   "language": "python",
   "name": "python3"
  },
  "language_info": {
   "codemirror_mode": {
    "name": "ipython",
    "version": 3
   },
   "file_extension": ".py",
   "mimetype": "text/x-python",
   "name": "python",
   "nbconvert_exporter": "python",
   "pygments_lexer": "ipython3",
   "version": "3.6.9"
  }
 },
 "nbformat": 4,
 "nbformat_minor": 1
}
