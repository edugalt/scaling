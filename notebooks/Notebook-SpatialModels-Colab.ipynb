{
  "cells": [
    {
      "cell_type": "markdown",
      "source": [
        "<a href=\"https://colab.research.google.com/github/edugalt/scaling/blob/master/notebooks/Notebook-SpatialModels-Colab.ipynb\">\n",
        "  <img src=\"https://colab.research.google.com/assets/colab-badge.svg\" alt=\"Open In Colab\"/>\n",
        "</a>"
      ],
      "metadata": {
        "id": "yrCnmRF5fwud"
      }
    },
    {
      "cell_type": "markdown",
      "metadata": {
        "id": "-I3Pwl4ifuTR"
      },
      "source": [
        "# Spatial Models for Urban Scaling Laws"
      ]
    },
    {
      "cell_type": "markdown",
      "metadata": {
        "id": "GBHKzv1WfuTS"
      },
      "source": [
        "<i>Spatial interactions in urban scaling laws </i>,\n",
        "<a href=\"http://www.maths.usyd.edu.au/u/ega/\"> Eduardo G. Altmann</a> <i>, <a href=\"https://journals.plos.org/plosone/article?id=10.1371/journal.pone.0243390\"> PLOS ONE 15, e0243390 (2020) </a>."
      ]
    },
    {
      "cell_type": "markdown",
      "source": [
        "# Loading files to Colab"
      ],
      "metadata": {
        "id": "Zx96DHCHgzVf"
      }
    },
    {
      "cell_type": "code",
      "source": [
        "!git clone https://github.com/edugalt/scaling"
      ],
      "metadata": {
        "colab": {
          "base_uri": "https://localhost:8080/"
        },
        "id": "7pp9kqckg251",
        "outputId": "7adaa26d-5c83-472b-c14e-4d50740dae2d"
      },
      "execution_count": 1,
      "outputs": [
        {
          "output_type": "stream",
          "name": "stdout",
          "text": [
            "Cloning into 'scaling'...\n",
            "remote: Enumerating objects: 908, done.\u001b[K\n",
            "remote: Counting objects: 100% (15/15), done.\u001b[K\n",
            "remote: Compressing objects: 100% (15/15), done.\u001b[K\n",
            "remote: Total 908 (delta 6), reused 0 (delta 0), pack-reused 893\u001b[K\n",
            "Receiving objects: 100% (908/908), 136.19 MiB | 14.99 MiB/s, done.\n",
            "Resolving deltas: 100% (272/272), done.\n",
            "Updating files: 100% (734/734), done.\n"
          ]
        }
      ]
    },
    {
      "cell_type": "code",
      "source": [
        "cd /content/scaling/notebooks/"
      ],
      "metadata": {
        "colab": {
          "base_uri": "https://localhost:8080/"
        },
        "id": "vX2NFJzqhF29",
        "outputId": "7e1d71ca-780b-4a4e-95ca-c4ec720add92"
      },
      "execution_count": 2,
      "outputs": [
        {
          "output_type": "stream",
          "name": "stdout",
          "text": [
            "/content/scaling/notebooks\n"
          ]
        }
      ]
    },
    {
      "cell_type": "code",
      "execution_count": 3,
      "metadata": {
        "id": "55D_bjwdfuTT"
      },
      "outputs": [],
      "source": [
        "import sys\n",
        "import matplotlib.pyplot as plt\n",
        "import scipy as sp\n",
        "from scipy import stats\n",
        "from scipy import optimize\n",
        "import numpy as np\n",
        "\n",
        "sys.path.append(\"/content/scaling/src/\")\n",
        "sys.path.append(\"/content/scaling/data/\")\n",
        "\n",
        "from spatial import *\n",
        "\n",
        "%matplotlib inline\n",
        "plt.rcParams.update({'font.size': 20})\n",
        "\n",
        "\n",
        "import warnings\n",
        "warnings.filterwarnings('ignore')\n"
      ]
    },
    {
      "cell_type": "markdown",
      "metadata": {
        "id": "vp4s5Ti_fuTU"
      },
      "source": [
        "# Import data "
      ]
    },
    {
      "cell_type": "markdown",
      "metadata": {
        "id": "DQqfEahNfuTU"
      },
      "source": [
        "The data corresponds to 4 arrays with:\n",
        "\n",
        "- $x$: the population of the urban areas\n",
        "- $y$: the observable of interest in each urban area\n",
        "- $l$: the location [latitude,longitude] of each urban area\n",
        "- names: the name of the urban areas\n",
        "\n",
        "To analyze your data you should import x,y,l as arrays and proceed as below\n",
        "\n"
      ]
    },
    {
      "cell_type": "code",
      "execution_count": 4,
      "metadata": {
        "id": "_fERL9isfuTU"
      },
      "outputs": [],
      "source": [
        "#Choose data\n",
        "#country=\"Brazil\";data=\"gdp\";\n",
        "#country=\"Brazil\";data=\"external\";\n",
        "#country=\"Brazil\";data=\"aids\";\n",
        "#country=\"USA\";data=\"roads\";\n",
        "country=\"USA\";data=\"gdp\";\n",
        "\n",
        "#Import data\n",
        "d=getData(country,data);x,y,l,names=d[0],d[1],d[2],d[3];\n",
        "\n",
        "#Compute the \n",
        "dmat = dmatrix(l);"
      ]
    },
    {
      "cell_type": "markdown",
      "metadata": {
        "id": "B5lGWTnHfuTV"
      },
      "source": [
        "# Models"
      ]
    },
    {
      "cell_type": "markdown",
      "metadata": {
        "id": "7yIqRIHqfuTV"
      },
      "source": [
        "Goal is to test scaling law:\n",
        "\n",
        "$$ y \\sim x^\\beta$$"
      ]
    },
    {
      "cell_type": "markdown",
      "metadata": {
        "id": "ffXpQvyvfuTV"
      },
      "source": [
        "## Non-spatial Models"
      ]
    },
    {
      "cell_type": "markdown",
      "metadata": {
        "id": "pJDAJNk0fuTW"
      },
      "source": [
        "### Least square fitting"
      ]
    },
    {
      "cell_type": "markdown",
      "metadata": {
        "id": "Iy-4xn2ifuTX"
      },
      "source": [
        "Exponent beta of least square fitting (removing zeros)"
      ]
    },
    {
      "cell_type": "code",
      "execution_count": 6,
      "metadata": {
        "colab": {
          "base_uri": "https://localhost:8080/"
        },
        "id": "t_ptZ1pWfuTX",
        "outputId": "1cead10a-4b1b-4f68-962c-d77d1a3a2cf3"
      },
      "outputs": [
        {
          "output_type": "stream",
          "name": "stdout",
          "text": [
            "1.1127588806209117\n"
          ]
        }
      ],
      "source": [
        "betaOLS,alphaOLS=np.polyfit(np.log(x[y>0]),np.log(y[y>0]),1)\n",
        "print(betaOLS)"
      ]
    },
    {
      "cell_type": "markdown",
      "metadata": {
        "id": "9qKGt39DfuTZ"
      },
      "source": [
        "### Per capita model"
      ]
    },
    {
      "cell_type": "code",
      "execution_count": 7,
      "metadata": {
        "colab": {
          "base_uri": "https://localhost:8080/"
        },
        "id": "VjdI1DNofuTZ",
        "outputId": "904fc3b4-dd3b-4e43-b8de-41f806cc107c"
      },
      "outputs": [
        {
          "output_type": "stream",
          "name": "stdout",
          "text": [
            "1 71068060.10573398\n"
          ]
        }
      ],
      "source": [
        "amat=amatModel(dmat,\"percapita\")   # Traditional model\n",
        "L_percapita=minus_log_likelihood_beta(1,x,y,amat)\n",
        "beta_percapita=1\n",
        "print(beta_percapita,L_percapita)"
      ]
    },
    {
      "cell_type": "markdown",
      "metadata": {
        "id": "She5_12wfuTZ"
      },
      "source": [
        "### City model"
      ]
    },
    {
      "cell_type": "code",
      "execution_count": 8,
      "metadata": {
        "colab": {
          "base_uri": "https://localhost:8080/"
        },
        "id": "2H4toD2VfuTZ",
        "outputId": "4706a3a5-09e8-4606-81c6-b203a4188b72"
      },
      "outputs": [
        {
          "output_type": "stream",
          "name": "stdout",
          "text": [
            "1.1210314431264368 70846201.94868006\n"
          ]
        }
      ],
      "source": [
        "amat=amatModel(dmat,\"city\")   # Traditional model\n",
        "res2=optimize.minimize_scalar(\n",
        "    fun=minus_log_likelihood_beta,\n",
        "    args=(x,y,amat)\n",
        ")\n",
        "res2\n",
        "L_no=res2.fun\n",
        "beta_no=res2.x\n",
        "L_city=L_no\n",
        "beta_city=beta_no\n",
        "print(beta_city,L_city)"
      ]
    },
    {
      "cell_type": "markdown",
      "metadata": {
        "id": "LwHeUKTQfuTa"
      },
      "source": [
        "## Scaling Plots"
      ]
    },
    {
      "cell_type": "code",
      "execution_count": 9,
      "metadata": {
        "scrolled": true,
        "colab": {
          "base_uri": "https://localhost:8080/",
          "height": 722
        },
        "id": "DH7oaN8efuTa",
        "outputId": "967d5305-85e7-4835-d1c3-266c00c64a34"
      },
      "outputs": [
        {
          "output_type": "display_data",
          "data": {
            "text/plain": [
              "<Figure size 1000x750 with 1 Axes>"
            ],
            "image/png": "[encoded data removed]"
          },
          "metadata": {}
        }
      ],
      "source": [
        "import string as s\n",
        "Y=np.sum(y)\n",
        "X=np.sum(x)\n",
        "Xbeta=np.sum(x**beta_city)\n",
        "plt.figure(figsize=[10,7.5])\n",
        "\n",
        "\n",
        "plt.plot(x,y,\".\")\n",
        "plt.plot(x,np.exp(betaOLS*np.log(x)+alphaOLS),\"-.\",lw=2,color=\"red\",label=r\"Linear fit, $\\beta=$\"+str(betaOLS)[:4])\n",
        "plt.plot(x,Y*x/X,\"-\",color=\"black\",label=r\"Model P, $\\beta=1$\")\n",
        "plt.plot(x,Y*x**beta_city/Xbeta,\"--\",color=\"black\",lw=2,label=r\"Model C, $\\beta=$\"+str(beta_city)[:4])\n",
        "plt.loglog()\n",
        "plt.title(country)\n",
        "plt.xlabel(\"x=Population\")\n",
        "plt.ylabel(\"y=\"+data.upper())\n",
        "plt.legend()\n",
        "plt.show()"
      ]
    },
    {
      "cell_type": "markdown",
      "metadata": {
        "id": "uB7G6CyXfuTa"
      },
      "source": [
        "# Spatial models"
      ]
    },
    {
      "cell_type": "markdown",
      "metadata": {
        "id": "6cSuULynfuTa"
      },
      "source": [
        "## There are four models to choose from"
      ]
    },
    {
      "cell_type": "code",
      "execution_count": 10,
      "metadata": {
        "id": "mN6zWF-5fuTa"
      },
      "outputs": [],
      "source": [
        "models=[\"percapita\",\"city\",\"gravitational\",\"exponential\"]"
      ]
    },
    {
      "cell_type": "markdown",
      "metadata": {
        "id": "cVV_Wel4fuTa"
      },
      "source": [
        "## Varying  alpha in a range and computing the ML beta"
      ]
    },
    {
      "cell_type": "code",
      "execution_count": 11,
      "metadata": {
        "colab": {
          "base_uri": "https://localhost:8080/"
        },
        "id": "7F3Pc8G4fuTa",
        "outputId": "a7695f1f-c020-4fd7-d074-26ae609de468"
      },
      "outputs": [
        {
          "output_type": "stream",
          "name": "stdout",
          "text": [
            "\n",
            " Model:\tgravitational\n",
            "alpha,beta,-logL\n",
            "1 1.1210970965825549 70846209.06530373\n",
            "2 1.1212912282163348 70846231.5549433\n",
            "5 1.1225592587657327 70846428.07695732\n",
            "7 1.123860084621207 70846713.6867691\n",
            "10 1.1262661066725919 70847452.05870798\n",
            "15 1.130953139941045 70849611.92011906\n",
            "20 1.1359225806263153 70852879.02943684\n",
            "30 1.1454905102991988 70861894.89892134\n",
            "50 1.1606880508848119 70884388.78429557\n",
            "75 1.1719600323985686 70912636.00902545\n",
            "100 1.1765365887672332 70937410.26379147\n",
            "120 1.176801115943065 70954320.19852968\n",
            "150 1.1735573927526843 70975222.57619634\n",
            "200 1.1632792922573745 71000526.25674877\n",
            "300 1.1396843620924912 71029136.55721292\n",
            "500 1.104945080915058 71051271.96536432\n",
            "750 1.0797864315870351 71060438.35380423\n",
            "1000 1.0636952905502304 71064151.1480022\n",
            "Best alpha found is= 1  with -log(L)= 70846209.06530373 leading to beta= 1.1210970965825549 \n",
            "to be compared with null L= 70846201.94868006  at beta= 1.1210314431264368\n",
            "\n",
            " Model:\texponential\n",
            "alpha,beta,-logL\n",
            "1 1.1210315235566333 70846201.94850914\n",
            "2 1.121032140456641 70846201.98800664\n",
            "5 1.1211244128133637 70846238.84769836\n",
            "7 1.1213306357606598 70846316.52407697\n",
            "10 1.1219342825114613 70846590.55142416\n",
            "15 1.12366900174892 70847981.9102059\n",
            "20 1.126020960198896 70850893.99418819\n",
            "30 1.1313046523269572 70860253.47913577\n",
            "50 1.1402411457222341 70885171.0813778\n",
            "75 1.1466328493975921 70915834.5298706\n",
            "100 1.1491432413022982 70941079.1979853\n",
            "120 1.149034815745933 70957880.35939884\n",
            "150 1.1461198155407077 70978759.29404606\n",
            "200 1.1365898321501036 71004714.52091497\n",
            "300 1.1122400147041969 71034993.21740061\n",
            "500 1.0731255310306755 71057475.73679782\n",
            "750 1.0517254895589296 71064261.88304913\n",
            "1000 1.044622548823693 71066112.6577975\n",
            "Best alpha found is= 1  with -log(L)= 70846201.94850914 leading to beta= 1.1210315235566333 \n",
            "to be compared with null L= 70846201.94868006  at beta= 1.1210314431264368\n"
          ]
        }
      ],
      "source": [
        "alpharange=[1,2,5,7,10,15,20,30,50,75,100,120,150,200,300,500,750,1000]#,1200,1500]\n",
        "\n",
        "Y = np.sum(y)\n",
        "# First two terms of the log-likelihood\n",
        "terms12 = Y*np.log(Y)-Y-np.sum(y[y>0]*np.log(y[y>0])-y[y>0])\n",
        "\n",
        "\n",
        "# Gravitational model\n",
        "model=models[2]\n",
        "print(\"\\n Model:\\t\"+model+\"\\nalpha,beta,-logL\")\n",
        "res_betasG=[];res_LG=[];resultsG=[];res_trueLogLG=[]\n",
        "for alpha in alpharange:\n",
        "    amat=amatModel(dmat,model,alpha) #Choosing the model\n",
        "    res2=optimize.minimize_scalar(fun=minus_log_likelihood_beta,args=(x,y,amat),method=\"bounded\",bounds=[0,2])\n",
        "    res_betasG.append(res2.x),res_LG.append(res2.fun),resultsG.append(res2)\n",
        "    res_trueLogLG.append(terms12-res2.fun)\n",
        "    #res_trueLogLG.append(-res2.fun)\n",
        "    print(alpha,res2.x,res2.fun)\n",
        "\n",
        "alpha_bestG = alpharange[res_LG.index(min(res_LG))]\n",
        "beta_bestG = res_betasG[res_LG.index(min(res_LG))]\n",
        "print(\"Best alpha found is=\",alpha_bestG,\" with -log(L)=\",min(res_LG), \"leading to beta=\",beta_bestG,\"\\nto be compared with null L=\",L_no,\" at beta=\",beta_no)\n",
        "\n",
        "# Exponential model\n",
        "model=models[3]\n",
        "print(\"\\n Model:\\t\"+model+\"\\nalpha,beta,-logL\")\n",
        "res_betasE=[];res_LE=[];resultsE=[];res_trueLogLE=[]\n",
        "for alpha in alpharange:\n",
        "    amat=amatModel(dmat,model,alpha) #Choosing the model\n",
        "    res2=optimize.minimize_scalar(fun=minus_log_likelihood_beta,args=(x,y,amat),method=\"bounded\",bounds=[0,2])\n",
        "    res_betasE.append(res2.x),res_LE.append(res2.fun),resultsE.append(res2)\n",
        "    res_trueLogLE.append(terms12-res2.fun)\n",
        "    print(alpha,res2.x,res2.fun)\n",
        "\n",
        "alpha_bestE = alpharange[res_LE.index(min(res_LE))]\n",
        "beta_bestE = res_betasE[res_LE.index(min(res_LE))]\n",
        "print(\"Best alpha found is=\",alpha_bestE,\" with -log(L)=\",min(res_LE), \"leading to beta=\",beta_bestE,\"\\nto be compared with null L=\",L_no,\" at beta=\",beta_no)\n",
        "    "
      ]
    },
    {
      "cell_type": "markdown",
      "metadata": {
        "id": "3-65sBqufuTb"
      },
      "source": [
        "# Plots"
      ]
    },
    {
      "cell_type": "code",
      "execution_count": 12,
      "metadata": {
        "colab": {
          "base_uri": "https://localhost:8080/",
          "height": 985
        },
        "id": "jQlLI_ljfuTb",
        "outputId": "43b1f174-ed74-4178-ead2-9d2b587db454"
      },
      "outputs": [
        {
          "output_type": "display_data",
          "data": {
            "text/plain": [
              "<Figure size 640x480 with 1 Axes>"
            ],
            "image/png": "[encoded data removed]"
          },
          "metadata": {}
        },
        {
          "output_type": "display_data",
          "data": {
            "text/plain": [
              "<Figure size 640x480 with 1 Axes>"
            ],
            "image/png": "[encoded data removed]"
          },
          "metadata": {}
        }
      ],
      "source": [
        "#font = {'family' : 'normal', 'weight' : 'normal',    'size'   : 15}\n",
        "\n",
        "#plt.matplotlib.rc('font', **font)\n",
        "\n",
        "\n",
        "logL_percapita=terms12-L_percapita\n",
        "logL_city=terms12-L_city\n",
        "amax=len(alpharange)-1\n",
        "s=4\n",
        "scale=10**s*np.log(10) #change to base 10\n",
        "\n",
        "plt.figure()\n",
        "plt.title(country+\" \"+data.upper())\n",
        "\n",
        "plt.xscale(\"log\")\n",
        "plt.plot([alpharange[0],alpharange[amax-1]],[1.0,1.0],\"-\",color=\"black\",label=\"Model P\")\n",
        "plt.plot([alpharange[0],alpharange[amax-1]],[beta_no,beta_no],\"--\",color=\"black\",label=\"Model C\")\n",
        "plt.plot(alpharange[:amax], res_betasG[:amax],\"-.\",ms=5,lw=2, color=\"blue\", label=\"Model G\")\n",
        "plt.plot(alpharange[:amax], res_betasE[:amax],\":\",ms=5,lw=2, color=\"red\", label=\"Model E\")\n",
        "plt.xlabel(r\"$\\alpha$ (km)\")\n",
        "plt.ylabel(r\"$\\beta^*$\")\n",
        "#plt.legend(loc=\"lower left\")\n",
        "plt.show()\n",
        "\n",
        "plt.figure()\n",
        "plt.xscale(\"log\")\n",
        "plt.yscale(\"linear\")\n",
        "plt.plot(alpharange[:amax], (res_trueLogLG-logL_percapita)[:amax]/scale,\"-.\",ms=5, lw=2,color=\"blue\")\n",
        "plt.plot(alpharange[:amax], (res_trueLogLE-logL_percapita)[:amax]/scale,\":\",ms=5, lw=2,color=\"red\")\n",
        "plt.plot([alpharange[0],alpharange[amax-1]],[0,0],\"-\",color=\"black\")\n",
        "plt.plot([alpharange[0],alpharange[amax-1]],[(logL_city-logL_percapita)/scale,(logL_city-logL_percapita)/scale],\"--\",color=\"black\")\n",
        "plt.xlabel(r\"$\\alpha$ (km)\")\n",
        "plt.ylabel(r\"$\\log P(D|M,\\theta) - \\log P(D|M=P)/10$^\"+str(s))\n",
        "#legend(loc=\"lower right\")\n",
        "plt.show()\n"
      ]
    },
    {
      "cell_type": "markdown",
      "metadata": {
        "id": "rBQGxTyafuTb"
      },
      "source": [
        "# Maximum Likelihood estimations for the chosen data and model"
      ]
    },
    {
      "cell_type": "code",
      "execution_count": 13,
      "metadata": {
        "colab": {
          "base_uri": "https://localhost:8080/"
        },
        "id": "SUOG5xEEfuTb",
        "outputId": "d7f62c80-7bec-44bf-858c-621119842f3b"
      },
      "outputs": [
        {
          "output_type": "stream",
          "name": "stdout",
          "text": [
            "percapita (alpha,beta,-logL)=  (0, 1, 71068060.10573398)\n",
            "city (alpha,beta,-logL)=  (0, 1.1210315232928587, 70846201.94868016)\n",
            "gravitational (alpha,beta,-logL)=  (3.3653546053240206e-06, 1.1210315232928507, 70846201.94868018)\n",
            "exponential (alpha,beta,-logL)=  (1.653159153787639, 1.1210316400864295, 70846201.93732426)\n"
          ]
        }
      ],
      "source": [
        "for mdl in [\"percapita\",\"city\",\"gravitational\",\"exponential\"]:\n",
        "    mlpar = MLparameters(x,y,l,mdl)\n",
        "    print(mdl,\"(alpha,beta,-logL)= \",mlpar)"
      ]
    },
    {
      "cell_type": "code",
      "execution_count": 14,
      "metadata": {
        "id": "FsWgIGHgfuTb"
      },
      "outputs": [],
      "source": [
        "model=models[1]\n",
        "alphaML,betaML,logLML= MLparameters(x,y,l,model)"
      ]
    },
    {
      "cell_type": "markdown",
      "metadata": {
        "id": "77MerRWJfuTc"
      },
      "source": [
        "# Uncertainty in $\\beta$ computed using bootstrapping"
      ]
    },
    {
      "cell_type": "code",
      "execution_count": 15,
      "metadata": {
        "colab": {
          "base_uri": "https://localhost:8080/"
        },
        "id": "2TLIID8zfuTd",
        "outputId": "6d3c9e94-d0e5-4896-a074-e3b4e3943283"
      },
      "outputs": [
        {
          "output_type": "stream",
          "name": "stdout",
          "text": [
            "Surrogate  0  out of  10\n",
            "Surrogate  1  out of  10\n",
            "Surrogate  2  out of  10\n",
            "Surrogate  3  out of  10\n",
            "Surrogate  4  out of  10\n",
            "Surrogate  5  out of  10\n",
            "Surrogate  6  out of  10\n",
            "Surrogate  7  out of  10\n",
            "Surrogate  8  out of  10\n",
            "Surrogate  9  out of  10\n",
            "USA gdp \n",
            " \t <beta>, \t sigma_beta\n",
            "city 1.1182002857103515 0.007831861021220465\n",
            "gravitational 1.1207212083493574 0.009571443330694445\n",
            "exponential 1.1183255996636832 0.007794500840298235\n"
          ]
        }
      ],
      "source": [
        "def surrogate(x,y):\n",
        "    \"Return (x_s,y_s) by sampling with replacement (x,y) the same number of elements of (x,y)\"\n",
        "    x_s=[];y_s=[];\n",
        "    N=len(x);\n",
        "    r=[np.random.randint(0,N) for i in range(N)] #N random numbers in [0,N)\n",
        "    r.sort()\n",
        "    x_s=[x[i] for i in r]\n",
        "    y_s=[y[i] for i in r]\n",
        "    return x_s,y_s\n",
        "\n",
        "S=10 # number of surrogates\n",
        "betas={}\n",
        "for mdl in [\"city\",\"gravitational\",\"exponential\"]:\n",
        "    betas[mdl]=[]\n",
        "for s in range(S):\n",
        "    xs,ys=surrogate(x,y)\n",
        "    for mdl in [\"city\",\"gravitational\",\"exponential\"]:\n",
        "        mlpar = MLparameters(xs,ys,l,mdl)\n",
        "        betas[mdl].append(mlpar[1])\n",
        "    print(\"Surrogate \",str(s),\" out of \",str(S))\n",
        "    \n",
        "print(country,data,\"\\n\",\"\\t <beta>, \\t sigma_beta\")\n",
        "for mdl in [\"city\",\"gravitational\",\"exponential\"]:\n",
        "    print(mdl,np.average(betas[mdl]),np.std(betas[mdl]))"
      ]
    },
    {
      "cell_type": "markdown",
      "metadata": {
        "id": "9sZr7t4CfuTd"
      },
      "source": [
        "# Description Length estimations"
      ]
    },
    {
      "cell_type": "markdown",
      "metadata": {
        "id": "LchCD7xcfuTd"
      },
      "source": [
        "The descripton length is:\n",
        "\n",
        "$\\mathcal{D}= -\\log(P(D,M)) = -\\log(\\int d\\theta P(D,M,\\theta)) = - \\log(\\int d\\theta P(D|M,\\theta))-\\log(P(M)) - \\log(P(\\theta|M))$\n",
        "\n",
        "The log- likelihood can be written as a sum of two constant terms $T_{12}$ and the third relevant term $T_3$\n",
        "\n",
        "$\\log(\\int d\\theta P(D|M,\\theta)) = \\log \\int d\\theta e^{T_{12}+T_3} = T_{12}+\\log \\int d\\theta e^{T3}$\n",
        "\n",
        "For numerical convenience, we compute in the function integraedL the quantity $I$, obtained subtracting T3 at the maximum likelihood parameters, called logLML in the code\n",
        "\n",
        "$I= \\int d\\theta e^{T3-logLML}= e^{-logLML} \\int d\\theta e^{T3}$\n",
        "\n",
        "so that \n",
        "\n",
        "$\\log I = -logLML + \\log \\int d\\theta e^T3$\n",
        "\n",
        "The description length is thus computed in function DL as:\n",
        "\n",
        "$D= - priors - T_{12} -\\log I - logLML $\n",
        "\n",
        "where $priors = - \\log(P(M)) -\\log(P(\\theta|M))$ "
      ]
    },
    {
      "cell_type": "markdown",
      "metadata": {
        "id": "rZBiQ1dlfuTd"
      },
      "source": [
        "## Computing I"
      ]
    },
    {
      "cell_type": "markdown",
      "metadata": {
        "id": "vnvs6he3fuTd"
      },
      "source": [
        "The value of I is obtained integrating the loglikelihood close to the maximum likelihood parameters\n",
        "\n",
        "We need to choose carefully the range around the maximum in which the integration is performed, otherwise the numerical integration may fail or take a long time"
      ]
    },
    {
      "cell_type": "code",
      "execution_count": 16,
      "metadata": {
        "id": "Kmpi4H35fuTd"
      },
      "outputs": [],
      "source": [
        "amin=max(-alphaML,-2) #minimum alpha should be larger than 0\n",
        "amax=min(6371-alphaML,2) # maximum alpha shoulbe smaller than the earth's radius\n",
        "\n",
        "bmin=max(-betaML,-0.025) #the minimum beta should be larger than 0\n",
        "bmax=min(2-betaML,0.025) #the maximum beta should be smaller than 2\n",
        "\n",
        "eps=10**(-6) # precision of integration method"
      ]
    },
    {
      "cell_type": "markdown",
      "metadata": {
        "id": "JdhybS_bfuTe"
      },
      "source": [
        "If the model is the Per-capita model, there is nothing to be computed (no parameter)\n",
        "\n",
        "If the model is the city model, we need to integrate over $\\beta$ only, otherwise over $\\alpha$ and $\\beta$\n",
        "\n",
        "Warning: These computations may take a long time."
      ]
    },
    {
      "cell_type": "code",
      "execution_count": 17,
      "metadata": {
        "colab": {
          "base_uri": "https://localhost:8080/"
        },
        "id": "FhnvsjkMfuTe",
        "outputId": "d8b7dddd-ef8f-41af-c350-2e3f0aefddbb"
      },
      "outputs": [
        {
          "output_type": "stream",
          "name": "stdout",
          "text": [
            "0.0004599346336921189\n"
          ]
        }
      ],
      "source": [
        "model=\"city\"\n",
        "\n",
        "neglogLML = -logLML\n",
        "\n",
        "if model==\"city\":\n",
        "    #integrate over beta only\n",
        "    gbeta = lambda be: np.exp(log_likelihood_alphabeta(alphaML,betaML+be,x,y,l,model)-neglogLML)\n",
        "    I=sp.integrate.quad(gbeta,bmin,bmax,epsrel=eps)[0]\n",
        "    \n",
        "    \n",
        "if model==\"gravitational\" or model==\"exponential\":\n",
        "    #integrate over alpha and beta; first term of par is the variation in alpha, second is the variation in beta, third is precision\n",
        "    g2 =  lambda ae,be: np.exp(log_likelihood_alphabeta(alphaML+ae,betaML+be,x,y,l,model)-neglogLML)\n",
        "    I=sp.integrate.dblquad(g2,bmin,bmax,lambda be:amin,lambda be:amax,epsrel=eps,epsabs=eps)[0]\n",
        "print(I)"
      ]
    },
    {
      "cell_type": "markdown",
      "metadata": {
        "id": "AjueWDlRfuTe"
      },
      "source": [
        "## Computing the Description length"
      ]
    },
    {
      "cell_type": "code",
      "execution_count": 18,
      "metadata": {
        "colab": {
          "base_uri": "https://localhost:8080/"
        },
        "id": "R1wg76UjfuTe",
        "outputId": "99fb34e9-e1cf-45f8-eee6-4da0b9d1b759"
      },
      "outputs": [
        {
          "output_type": "stream",
          "name": "stdout",
          "text": [
            "141317451.5468824 \n",
            " 7.684426179247697 70846201.94868016 70471239.83433452 2.0794415416798357\n"
          ]
        }
      ],
      "source": [
        "T12=logLikelihood12(y)\n",
        "prior=negLogPrior(model)\n",
        "D=-1.*np.log(I)+logLML+T12+prior\n",
        "print(D,\"\\n\",-np.log(I),logLML,T12,prior)"
      ]
    },
    {
      "cell_type": "markdown",
      "metadata": {
        "id": "CL3kB5Y1fuTe"
      },
      "source": [
        "# Pre-computed results\n",
        "\n",
        "The maximum likelihood estimations and the description length have been pre-computed for all datasets and models. It can be found in the file:\n",
        "\n",
        "../results/inference.json\n"
      ]
    },
    {
      "cell_type": "code",
      "execution_count": 19,
      "metadata": {
        "id": "FXZuriOyfuTe"
      },
      "outputs": [],
      "source": [
        "import json\n",
        "f=open(\"../results/inference.json\",\"r\")\n",
        "pre=json.load(f)\n",
        "f.close()"
      ]
    },
    {
      "cell_type": "code",
      "execution_count": 20,
      "metadata": {
        "colab": {
          "base_uri": "https://localhost:8080/"
        },
        "id": "mAkZJd8AfuTe",
        "outputId": "ebc0f7bc-5dcd-4e57-dd5c-fee01fbffb88"
      },
      "outputs": [
        {
          "output_type": "execute_result",
          "data": {
            "text/plain": [
              "{'alpha': 0,\n",
              " 'beta': 1.1210314431264368,\n",
              " 'logLML': 70846201.94868006,\n",
              " 'terms12': 70471239.83433452,\n",
              " 'aRange': 0,\n",
              " 'bRange': 0.025,\n",
              " 'BICFactor': 16.528874615490224,\n",
              " 'prior': 2.0794415416798357,\n",
              " 'logI': 7.6844262838044335,\n",
              " 'D': 141317451.5468824,\n",
              " 'Dbits': 203877986.5377536}"
            ]
          },
          "metadata": {},
          "execution_count": 20
        }
      ],
      "source": [
        "pre[country][data][\"C\"]"
      ]
    },
    {
      "cell_type": "markdown",
      "metadata": {
        "id": "NEVhS68HfuTe"
      },
      "source": [
        "The entries correspond to:\n",
        "\n",
        "- alpha,beta,logLML: the maximum likelihood values, ogLML is the third term of the log likelihood\n",
        "- arange,brange: the range of parameters integrated to compute I (up to 10x these values were used)\n",
        "- logI, obtained from the integration\n",
        "- BIC factor, $-k \\log(Y)$, to be compared with $\\log I$\n",
        "- prior, the negative log probability of the priors of this model\n",
        "- D, the description legngth of the model\n",
        "    "
      ]
    },
    {
      "cell_type": "code",
      "execution_count": 21,
      "metadata": {
        "colab": {
          "base_uri": "https://localhost:8080/"
        },
        "id": "o2sFM6P2fuTe",
        "outputId": "88892bad-712a-46d9-817e-36e68ebbee2f"
      },
      "outputs": [
        {
          "output_type": "execute_result",
          "data": {
            "text/plain": [
              "{'Brazil': {'gdp': {'P': {'alpha': 0,\n",
              "    'beta': 1,\n",
              "    'logLML': 23660859827.903328,\n",
              "    'terms12': 22652796641.57405,\n",
              "    'aRange': 0,\n",
              "    'bRange': 0,\n",
              "    'BICFactor': 0,\n",
              "    'prior': 1.3862943611198906,\n",
              "    'logI': 0,\n",
              "    'D': 46313656470.86367,\n",
              "    'Dbits': 66816482515.95007},\n",
              "   'C': {'alpha': 0,\n",
              "    'beta': 1.1663314815354546,\n",
              "    'logLML': 23420651424.189156,\n",
              "    'terms12': 22652796641.57405,\n",
              "    'aRange': 0,\n",
              "    'bRange': 3e-05,\n",
              "    'BICFactor': 22.0482738386467,\n",
              "    'prior': 2.0794415416798357,\n",
              "    'logI': 10.875019959406075,\n",
              "    'D': 46073448078.717674,\n",
              "    'Dbits': 66469935059.82113},\n",
              "   'G': {'alpha': 14.599567066050234,\n",
              "    'beta': 1.2364913508161357,\n",
              "    'logLML': 23383750938.948578,\n",
              "    'terms12': 22652796641.57405,\n",
              "    'aRange': 0.01,\n",
              "    'bRange': 4e-05,\n",
              "    'BICFactor': 44.0965476772934,\n",
              "    'prior': 10.838953263796325,\n",
              "    'logI': 15.574536503602513,\n",
              "    'D': 46036547606.93612,\n",
              "    'Dbits': 66416698932.175415},\n",
              "   'E': {'alpha': 17.560444058754186,\n",
              "    'beta': 1.2109451238610098,\n",
              "    'logLML': 23391592481.928474,\n",
              "    'terms12': 22652796641.57405,\n",
              "    'aRange': 0.02,\n",
              "    'bRange': 4e-05,\n",
              "    'BICFactor': 44.0965476772934,\n",
              "    'prior': 10.838953263796325,\n",
              "    'logI': 15.375687890404027,\n",
              "    'D': 46044389149.71716,\n",
              "    'Dbits': 66428011887.05855}},\n",
              "  'external': {'P': {'alpha': 0,\n",
              "    'beta': 1,\n",
              "    'logLML': 981098.7345751111,\n",
              "    'terms12': 971486.7681293103,\n",
              "    'aRange': 0,\n",
              "    'bRange': 0,\n",
              "    'BICFactor': 0,\n",
              "    'prior': 1.3862943611198906,\n",
              "    'logI': 0,\n",
              "    'D': 1952586.8889987827,\n",
              "    'Dbits': 2816987.4216633528},\n",
              "   'C': {'alpha': 0,\n",
              "    'beta': 1.0185349171824594,\n",
              "    'logLML': 980991.5956293426,\n",
              "    'terms12': 971486.7681293103,\n",
              "    'aRange': 0,\n",
              "    'bRange': 0.006,\n",
              "    'BICFactor': 11.855202251122634,\n",
              "    'prior': 2.0794415416798357,\n",
              "    'logI': 5.754760817467555,\n",
              "    'D': 1952486.1979610121,\n",
              "    'Dbits': 2816842.155202499},\n",
              "   'G': {'alpha': 289.7582944004548,\n",
              "    'beta': 0.9093100532203415,\n",
              "    'logLML': 980820.158052339,\n",
              "    'terms12': 971486.7681293103,\n",
              "    'aRange': 80,\n",
              "    'bRange': 0.0015,\n",
              "    'BICFactor': 23.710404502245268,\n",
              "    'prior': 10.838953263796325,\n",
              "    'logI': 0.7194295498880987,\n",
              "    'D': 1952318.484564463,\n",
              "    'Dbits': 2816600.195917007},\n",
              "   'E': {'alpha': 219.4304355659513,\n",
              "    'beta': 0.9337132382719132,\n",
              "    'logLML': 980856.9998442923,\n",
              "    'terms12': 971486.7681293103,\n",
              "    'aRange': 60,\n",
              "    'bRange': 0.02,\n",
              "    'BICFactor': 23.710404502245268,\n",
              "    'prior': 10.838953263796325,\n",
              "    'logI': 1.3226164898545112,\n",
              "    'D': 1952355.9295433562,\n",
              "    'Dbits': 2816654.2176023624}},\n",
              "  'aids': {'P': {'alpha': 0,\n",
              "    'beta': 1,\n",
              "    'logLML': 75179.5362936432,\n",
              "    'terms12': 70704.84053345596,\n",
              "    'aRange': 0,\n",
              "    'bRange': 0,\n",
              "    'BICFactor': 0,\n",
              "    'prior': 1.3862943611198906,\n",
              "    'logI': 0,\n",
              "    'D': 145885.7631214603,\n",
              "    'Dbits': 210468.6669916328},\n",
              "   'C': {'alpha': 0,\n",
              "    'beta': 1.1571393335302567,\n",
              "    'logLML': 74524.46897090995,\n",
              "    'terms12': 70704.84053345596,\n",
              "    'aRange': 0,\n",
              "    'bRange': 0.012,\n",
              "    'BICFactor': 9.400712766959849,\n",
              "    'prior': 2.0794415416798357,\n",
              "    'logI': 4.527153270262306,\n",
              "    'D': 145235.91609917785,\n",
              "    'Dbits': 209531.13591524944},\n",
              "   'G': {'alpha': 3.0733595547989934,\n",
              "    'beta': 1.167078985883798,\n",
              "    'logLML': 74522.94735452131,\n",
              "    'terms12': 70704.84053345596,\n",
              "    'aRange': 3.0,\n",
              "    'bRange': 0.02,\n",
              "    'BICFactor': 18.801425533919698,\n",
              "    'prior': 10.838953263796325,\n",
              "    'logI': 4.105496743545649,\n",
              "    'D': 145242.73233798463,\n",
              "    'Dbits': 209540.96966917353},\n",
              "   'E': {'alpha': 4.606142929015611,\n",
              "    'beta': 1.16402865757257,\n",
              "    'logLML': 74511.01596060011,\n",
              "    'terms12': 70704.84053345596,\n",
              "    'aRange': 3.0,\n",
              "    'bRange': 0.02,\n",
              "    'BICFactor': 18.801425533919698,\n",
              "    'prior': 10.838953263796325,\n",
              "    'logI': 4.075864218358065,\n",
              "    'D': 145230.77131153824,\n",
              "    'Dbits': 209523.71355563536}}},\n",
              " 'USA': {'gdp': {'P': {'alpha': 0,\n",
              "    'beta': 1,\n",
              "    'logLML': 71068060.10573398,\n",
              "    'terms12': 70471239.83433452,\n",
              "    'aRange': 0,\n",
              "    'bRange': 0,\n",
              "    'BICFactor': 0,\n",
              "    'prior': 1.3862943611198906,\n",
              "    'logI': 0,\n",
              "    'D': 141539301.32636285,\n",
              "    'Dbits': 204198048.11443236},\n",
              "   'C': {'alpha': 0,\n",
              "    'beta': 1.1210314431264368,\n",
              "    'logLML': 70846201.94868006,\n",
              "    'terms12': 70471239.83433452,\n",
              "    'aRange': 0,\n",
              "    'bRange': 0.025,\n",
              "    'BICFactor': 16.528874615490224,\n",
              "    'prior': 2.0794415416798357,\n",
              "    'logI': 7.6844262838044335,\n",
              "    'D': 141317451.5468824,\n",
              "    'Dbits': 203877986.5377536},\n",
              "   'G': {'alpha': 0,\n",
              "    'beta': 1.1210315232928507,\n",
              "    'logLML': 70846201.94868018,\n",
              "    'terms12': 70471239.83433452,\n",
              "    'aRange': 1.5,\n",
              "    'bRange': 0.003,\n",
              "    'BICFactor': 33.05774923098045,\n",
              "    'prior': 10.838953263796325,\n",
              "    'logI': 8.78090218636765,\n",
              "    'D': 141317461.40287015,\n",
              "    'Dbits': 203878000.75693825},\n",
              "   'E': {'alpha': 1.653159153787639,\n",
              "    'beta': 1.1210316400864295,\n",
              "    'logLML': 70846201.93732426,\n",
              "    'terms12': 70471239.83433452,\n",
              "    'aRange': 3,\n",
              "    'bRange': 0.003,\n",
              "    'BICFactor': 33.05774923098045,\n",
              "    'prior': 10.838953263796325,\n",
              "    'logI': 6.768582560563683,\n",
              "    'D': 141317459.37919462,\n",
              "    'Dbits': 203877997.83739161}},\n",
              "  'roads': {'P': {'alpha': 0,\n",
              "    'beta': 1,\n",
              "    'logLML': 4428353.770649537,\n",
              "    'terms12': 4346799.493054209,\n",
              "    'aRange': 0,\n",
              "    'bRange': 0,\n",
              "    'BICFactor': 0,\n",
              "    'prior': 1.3862943611198906,\n",
              "    'logI': 0,\n",
              "    'D': 8775154.649998108,\n",
              "    'Dbits': 12659872.096585998},\n",
              "   'C': {'alpha': 0,\n",
              "    'beta': 0.7918370897300113,\n",
              "    'logLML': 4381997.202946814,\n",
              "    'terms12': 4346799.493054209,\n",
              "    'aRange': 0,\n",
              "    'bRange': 0.01,\n",
              "    'BICFactor': 13.661722812268456,\n",
              "    'prior': 2.0794415416798357,\n",
              "    'logI': 6.373972527978142,\n",
              "    'D': 8728805.149415093,\n",
              "    'Dbits': 12593003.901947202},\n",
              "   'G': {'alpha': 20.40867715345309,\n",
              "    'beta': 0.7544952647397906,\n",
              "    'logLML': 4380671.465467133,\n",
              "    'terms12': 4346799.493054209,\n",
              "    'aRange': 0.6,\n",
              "    'bRange': 0.001,\n",
              "    'BICFactor': 27.323445624536912,\n",
              "    'prior': 10.838953263796325,\n",
              "    'logI': 6.397499511608895,\n",
              "    'D': 8727488.194974117,\n",
              "    'Dbits': 12591103.93830613},\n",
              "   'E': {'alpha': 28.816189547180738,\n",
              "    'beta': 0.7652680072680332,\n",
              "    'logLML': 4380688.071332829,\n",
              "    'terms12': 4346799.493054209,\n",
              "    'aRange': 1.5,\n",
              "    'bRange': 0.004,\n",
              "    'BICFactor': 27.323445624536912,\n",
              "    'prior': 10.838953263796325,\n",
              "    'logI': 6.408045058977791,\n",
              "    'D': 8727504.811385361,\n",
              "    'Dbits': 12591127.91072023}}}}"
            ]
          },
          "metadata": {},
          "execution_count": 21
        }
      ],
      "source": [
        "pre"
      ]
    }
  ],
  "metadata": {
    "kernelspec": {
      "display_name": "Python 3",
      "language": "python",
      "name": "python3"
    },
    "language_info": {
      "codemirror_mode": {
        "name": "ipython",
        "version": 3
      },
      "file_extension": ".py",
      "mimetype": "text/x-python",
      "name": "python",
      "nbconvert_exporter": "python",
      "pygments_lexer": "ipython3",
      "version": "3.8.5"
    },
    "colab": {
      "provenance": []
    }
  },
  "nbformat": 4,
  "nbformat_minor": 0
}