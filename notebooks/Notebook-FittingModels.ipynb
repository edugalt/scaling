{
 "cells": [
  {
   "cell_type": "markdown",
   "metadata": {},
   "source": [
    "# Notebook for the fitting Urban scaling laws "
   ]
  },
  {
   "cell_type": "markdown",
   "metadata": {},
   "source": [
    "- Repository: [https://github.com/edugalt/scaling](https://github.com/edugalt/scaling)\n",
    "\n",
    "- Reference: J. C. Leitao, J.M. Miotto, M. Gerlach, and E. G. Altmann, \"Is this scaling nonlinear?\", Royal Society Open Science 3, 150649 (2016) [DOI: 10.1098/rsos.150649](http://rsos.royalsocietypublishing.org/content/3/7/150649).\n",
    "\n",
    "- Remove results from folder \"_results\" to ensure original computations (instead of reading from stored results)"
   ]
  },
  {
   "cell_type": "code",
   "execution_count": 18,
   "metadata": {},
   "outputs": [],
   "source": [
    "import sys\n",
    "import numpy as np\n",
    "\n",
    "sys.path.append(\"../src/\")\n",
    "sys.path.append(\"../data/\")\n",
    "\n",
    "\n",
    "import analysis as a\n",
    "MIN_VALUE = 10**-8\n",
    "\n",
    "def summary(func):\n",
    "    print(func.description,'\\t Dataset:',func.dataset)\n",
    "    print('Beta +- error:\\t',func.beta)\n",
    "    print('P-value:\\t',func.p_value)\n",
    "    print('BIC:\\t\\t',func.bic,'\\n')\n",
    "    \n",
    "%matplotlib inline\n"
   ]
  },
  {
   "cell_type": "markdown",
   "metadata": {},
   "source": [
    "## Choose the dataset \n",
    "\n",
    "- by setting the variable dataset=\"name\"\n",
    "\n",
    "- Pick one of the available datasets (write 'help' as the name of the dataset for a list)\n",
    "\n",
    "- Or, add your csv dataset to the appropriate folder:\n",
    "\n",
    "-- New dataset with three columns (name,x,y) = (city-name, population, observable) to folder new_dataset/\n",
    "\n",
    "-- New dataset with two columns (x,y) = (population, observable) to folder new_dataset2/"
   ]
  },
  {
   "cell_type": "code",
   "execution_count": 19,
   "metadata": {},
   "outputs": [],
   "source": [
    "dataset=\"usa_gdp\"\n",
    "#Available datasets\n",
    "#brazil_aids_2010,brazil_gdp_2010,brazil_externalCauses_2010,oecd_gdp,oecd_patents,usa_gdp,usa_miles,eurostat_cinema_seats,eurostat_cinema_attendance,eurostat_museum_visitors,eurostat_theaters,eurostat_libraries,uk_patents,uk_income,uk_train\n",
    "\n",
    "#COVID-19 datasets:\n",
    "#covid19_NSW, covid19_USA, covid19_brazil, covid19_chile\n",
    "\n",
    "try:\n",
    "    x=a.xy(dataset).x\n",
    "    y=a.xy(dataset).y\n",
    "except:\n",
    "    print(\"Invalid Dataset Chosen. Available datasets are:\\n\")\n",
    "    for i in a.DATABASES:\n",
    "        print(i)\n",
    "\n",
    "#Deleting all calculations for previously load new datasets\n",
    "if dataset.startswith(\"new_dataset\"):\n",
    "    %rm _results/*new_dataset*"
   ]
  },
  {
   "cell_type": "markdown",
   "metadata": {},
   "source": [
    "# Performing Analysis"
   ]
  },
  {
   "cell_type": "markdown",
   "metadata": {},
   "source": [
    " - Each line is one of the models, with specific constrains. Further constrains can be fixed in each model.\n",
    " \n",
    " - This can take some time for large datasets\n",
    "\n",
    " - Increase the \"required_successes=\" parameter to increase precision (and computational time) "
   ]
  },
  {
   "cell_type": "markdown",
   "metadata": {},
   "source": [
    "## Log-Normal"
   ]
  },
  {
   "cell_type": "code",
   "execution_count": 20,
   "metadata": {},
   "outputs": [],
   "source": [
    "ln = a.LogNormalAnalysis(dataset, required_successes=2)"
   ]
  },
  {
   "cell_type": "code",
   "execution_count": 21,
   "metadata": {},
   "outputs": [],
   "source": [
    "ln_beta1=a.LogNormalFixedBetaAnalysis(dataset,required_successes=2)"
   ]
  },
  {
   "cell_type": "code",
   "execution_count": 22,
   "metadata": {},
   "outputs": [],
   "source": [
    "ln_deltaf=a.LogNormalFixedDAnalysis(dataset,required_successes=2)"
   ]
  },
  {
   "cell_type": "markdown",
   "metadata": {},
   "source": [
    "##  Gaussian"
   ]
  },
  {
   "cell_type": "code",
   "execution_count": 23,
   "metadata": {},
   "outputs": [],
   "source": [
    "Gauss=a.ConstrainedDAnalysis(dataset,required_successes=2)"
   ]
  },
  {
   "cell_type": "code",
   "execution_count": 24,
   "metadata": {},
   "outputs": [],
   "source": [
    "Gauss_beta1=a.ConstrainedDFixedBetaAnalysis(dataset,required_successes=2)"
   ]
  },
  {
   "cell_type": "markdown",
   "metadata": {},
   "source": [
    "## Population"
   ]
  },
  {
   "cell_type": "code",
   "execution_count": 25,
   "metadata": {},
   "outputs": [],
   "source": [
    "Pop=a.PopulationAnalysis(dataset,required_successes=2)"
   ]
  },
  {
   "cell_type": "code",
   "execution_count": 26,
   "metadata": {},
   "outputs": [],
   "source": [
    "Pop2=a.PopulationFixedGammaAnalysis(dataset,required_successes=2)"
   ]
  },
  {
   "cell_type": "markdown",
   "metadata": {},
   "source": [
    "## Least Square Fit"
   ]
  },
  {
   "cell_type": "code",
   "execution_count": 27,
   "metadata": {},
   "outputs": [],
   "source": [
    "LS=a.mls_best_fit(np.log(x),np.log(y))"
   ]
  },
  {
   "cell_type": "markdown",
   "metadata": {},
   "source": [
    "# Outcome of the Analysis "
   ]
  },
  {
   "cell_type": "markdown",
   "metadata": {},
   "source": [
    "### Printing the outcomes"
   ]
  },
  {
   "cell_type": "code",
   "execution_count": 28,
   "metadata": {},
   "outputs": [
    {
     "name": "stdout",
     "output_type": "stream",
     "text": [
      "Log normal fluctuations with a general \\delta \t Dataset: usa_gdp\n",
      "Beta +- error:\t (1.112985112095562, 0.026156565104364895)\n",
      "P-value:\t 7.883164609868066e-06\n",
      "BIC:\t\t 7331.906940035647 \n",
      "\n",
      "Log normal fluctuations with \\beta = 1 \t Dataset: usa_gdp\n",
      "Beta +- error:\t (1.0, 0.0)\n",
      "P-value:\t 2.842613321647731e-13\n",
      "BIC:\t\t 7400.484344545411 \n",
      "\n",
      "Log normal fluctuations with \\delta = 1 \t Dataset: usa_gdp\n",
      "Beta +- error:\t (1.1127655008015638, 0.06125202206921292)\n",
      "P-value:\t 2.9873365212437333e-07\n",
      "BIC:\t\t 7328.629283473116 \n",
      "\n",
      "Gaussian fluctuations with free \\delta \t Dataset: usa_gdp\n",
      "Beta +- error:\t (1.115962005652085, 0.02410129843011141)\n",
      "P-value:\t 1.6552582515706e-56\n",
      "BIC:\t\t 7443.727699080898 \n",
      "\n",
      "Gaussian fluctuations with \\beta = 1 and free \\delta \t Dataset: usa_gdp\n",
      "Beta +- error:\t (1.0, 0.0)\n",
      "P-value:\t 9.009520299258393e-56\n",
      "BIC:\t\t 7508.130531288362 \n",
      "\n",
      "People model with free \\delta \t Dataset: usa_gdp\n",
      "Beta +- error:\t (1.1210314399746837, 0.02077986617381453)\n",
      "P-value:\t 0.0\n",
      "BIC:\t\t 282634900.0949037 \n",
      "\n",
      "People model with \\delta = 1 \t Dataset: usa_gdp\n",
      "Beta +- error:\t (1.0, 0.0)\n",
      "P-value:\t 0.0\n",
      "BIC:\t\t 283078599.8801369 \n",
      "\n",
      "\n",
      " Least Square fitting: (1.112758880620909, 0.024746780540842134, -4.579100826486798)\n"
     ]
    }
   ],
   "source": [
    "summary(ln)\n",
    "summary(ln_beta1)\n",
    "summary(ln_deltaf)\n",
    "summary(Gauss)\n",
    "summary(Gauss_beta1)\n",
    "summary(Pop)\n",
    "summary(Pop2)\n",
    "\n",
    "print(\"\\n Least Square fitting:\",LS)"
   ]
  },
  {
   "cell_type": "markdown",
   "metadata": {},
   "source": [
    "### Plotting data "
   ]
  },
  {
   "cell_type": "code",
   "execution_count": 29,
   "metadata": {},
   "outputs": [
    {
     "data": {
      "image/png": "[encoded data removed]",
      "text/plain": [
       "<Figure size 1440x720 with 1 Axes>"
      ]
     },
     "metadata": {
      "needs_background": "light"
     },
     "output_type": "display_data"
    }
   ],
   "source": [
    "from matplotlib.pyplot import *\n",
    "figure(figsize=(20,10))\n",
    "xscale(\"log\")\n",
    "yscale(\"log\")\n",
    "xlim(0.9*min(x),1.1*max(x))\n",
    "ylim(0.9*min(y),2*max(y))\n",
    "plot(x, y, \"o\", ms=2,color=\"black\",label=\"data\")\n",
    "plot(x, np.exp(LS[2])*x**LS[0], \"-\", ms=2,color=\"red\",label=r\"Least Square fit, $\\beta=$\"+str(LS[0])[:4])\n",
    "plot(x, ln.params[0]*x**ln.params[1], \"-\", ms=2,color=\"blue\",label=r\"Lognormal Model, $\\beta=$\"+str(ln.params[1])[:4])\n",
    "# People's model\n",
    "Y=np.sum(y)\n",
    "betaP=Pop.params[0]\n",
    "Z=np.sum(np.power(x,betaP))\n",
    "plot(x, Y*x**betaP/Z, \"-\", ms=2,color=\"black\",label=r\"Person's Model, $\\beta=$\"+str(betaP)[:4])\n",
    "xlabel(\"Population\")\n",
    "ylabel(\"Observable\")\n",
    "legend(loc=0)\n",
    "show()"
   ]
  },
  {
   "cell_type": "code",
   "execution_count": null,
   "metadata": {},
   "outputs": [],
   "source": []
  }
 ],
 "metadata": {
  "kernelspec": {
   "display_name": "Python 3 (ipykernel)",
   "language": "python",
   "name": "python3"
  },
  "language_info": {
   "codemirror_mode": {
    "name": "ipython",
    "version": 3
   },
   "file_extension": ".py",
   "mimetype": "text/x-python",
   "name": "python",
   "nbconvert_exporter": "python",
   "pygments_lexer": "ipython3",
   "version": "3.10.6"
  }
 },
 "nbformat": 4,
 "nbformat_minor": 1
}
