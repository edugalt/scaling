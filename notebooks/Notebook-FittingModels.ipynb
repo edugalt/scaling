{
 "cells": [
  {
   "cell_type": "markdown",
   "metadata": {},
   "source": [
    "# Notebook for the fitting Urban scaling laws "
   ]
  },
  {
   "cell_type": "markdown",
   "metadata": {},
   "source": [
    "- Repository: [https://github.com/edugalt/scaling](https://github.com/edugalt/scaling)\n",
    "\n",
    "- Reference: J. C. Leitao, J.M. Miotto, M. Gerlach, and E. G. Altmann, \"Is this scaling nonlinear?\", Royal Society Open Science 3, 150649 (2016) [DOI: 10.1098/rsos.150649](http://rsos.royalsocietypublishing.org/content/3/7/150649).\n",
    "\n",
    "- Remove results from folder \"_results\" to ensure original computations (instead of reading from stored results)"
   ]
  },
  {
   "cell_type": "code",
   "execution_count": 5,
   "metadata": {},
   "outputs": [
    {
     "name": "stdout",
     "output_type": "stream",
     "text": [
      "The autoreload extension is already loaded. To reload it, use:\n",
      "  %reload_ext autoreload\n"
     ]
    }
   ],
   "source": [
    "import sys\n",
    "import numpy as np\n",
    "\n",
    "sys.path.append(\"../src/\")\n",
    "sys.path.append(\"../data/\")\n",
    "\n",
    "\n",
    "import analysis as a\n",
    "MIN_VALUE = 10**-8\n",
    "\n",
    "%load_ext autoreload\n",
    "%autoreload 2\n",
    "\n",
    "%matplotlib inline\n",
    "def summary(func):\n",
    "    print(func.description,'\\t Dataset:',func.dataset)\n",
    "    print('Beta +- error:\\t',func.beta)\n",
    "    print('P-value:\\t',func.p_value)\n",
    "    print('BIC:\\t\\t',func.bic,'\\n')"
   ]
  },
  {
   "cell_type": "markdown",
   "metadata": {},
   "source": [
    "## Choose the dataset \n",
    "\n",
    "- by setting the variable dataset=\"name\"\n",
    "\n",
    "- Pick one of the available datasets (write 'help' as the name of the dataset for a list)\n",
    "\n",
    "- Or, add your csv dataset to the appropriate folder:\n",
    "\n",
    "-- New dataset with three columns (name,x,y) = (city-name, population, observable) to folder new_dataset/\n",
    "\n",
    "-- New dataset with two columns (x,y) = (population, observable) to folder new_dataset2/"
   ]
  },
  {
   "cell_type": "code",
   "execution_count": 10,
   "metadata": {},
   "outputs": [],
   "source": [
    "dataset=\"usa_miles\"\n",
    "#Available datasets\n",
    "#brazil_aids_2010,brazil_gdp_2010,brazil_externalCauses_2010,oecd_gdp,oecd_patents,usa_gdp,usa_miles,eurostat_cinema_seats,eurostat_cinema_attendance,eurostat_museum_visitors,eurostat_theaters,eurostat_libraries,uk_patents,uk_income,uk_train\n",
    "\n",
    "try:\n",
    "    x=a.xy(dataset).x\n",
    "    y=a.xy(dataset).y\n",
    "except:\n",
    "    print(\"Invalid Dataset Chosen. Available datasets are:\\n\")\n",
    "    for i in a.DATABASES:\n",
    "        print(i)\n",
    "\n",
    "#Deleting all calculations for previously load new datasets\n",
    "if dataset.startswith(\"new_dataset\"):\n",
    "    %rm _results/*new_dataset*"
   ]
  },
  {
   "cell_type": "markdown",
   "metadata": {},
   "source": [
    "# Performing Analysis"
   ]
  },
  {
   "cell_type": "markdown",
   "metadata": {},
   "source": [
    " - Each line is one of the models, with specific constrains. Further constrains cna be fixed in each model.\n",
    " \n",
    " - This can take some time (at least a couple of minutes)\n",
    "\n",
    " - Increase the \"required_successes=\" parameter to increase precision (and computational time) "
   ]
  },
  {
   "cell_type": "markdown",
   "metadata": {},
   "source": [
    "## Log-Normal"
   ]
  },
  {
   "cell_type": "code",
   "execution_count": 11,
   "metadata": {},
   "outputs": [],
   "source": [
    "ln = a.LogNormalAnalysis(dataset, required_successes=2)"
   ]
  },
  {
   "cell_type": "code",
   "execution_count": 12,
   "metadata": {},
   "outputs": [],
   "source": [
    "ln_beta1=a.LogNormalFixedBetaAnalysis(dataset,required_successes=2)"
   ]
  },
  {
   "cell_type": "code",
   "execution_count": 13,
   "metadata": {},
   "outputs": [],
   "source": [
    "ln_deltaf=a.LogNormalFixedDAnalysis(dataset,required_successes=2)"
   ]
  },
  {
   "cell_type": "markdown",
   "metadata": {},
   "source": [
    "##  Gaussian"
   ]
  },
  {
   "cell_type": "code",
   "execution_count": null,
   "metadata": {},
   "outputs": [],
   "source": [
    "Gauss=a.ConstrainedDAnalysis(dataset,required_successes=2)"
   ]
  },
  {
   "cell_type": "code",
   "execution_count": null,
   "metadata": {},
   "outputs": [],
   "source": [
    "Gauss_beta1=a.ConstrainedDFixedBetaAnalysis(dataset,required_successes=2)"
   ]
  },
  {
   "cell_type": "markdown",
   "metadata": {},
   "source": [
    "## Population"
   ]
  },
  {
   "cell_type": "code",
   "execution_count": null,
   "metadata": {},
   "outputs": [],
   "source": [
    "Pop=a.PopulationAnalysis(dataset,required_successes=2)"
   ]
  },
  {
   "cell_type": "code",
   "execution_count": null,
   "metadata": {},
   "outputs": [],
   "source": [
    "Pop2=a.PopulationFixedGammaAnalysis(dataset,required_successes=2)"
   ]
  },
  {
   "cell_type": "markdown",
   "metadata": {},
   "source": [
    "## Least Square Fit"
   ]
  },
  {
   "cell_type": "code",
   "execution_count": 14,
   "metadata": {},
   "outputs": [],
   "source": [
    "LS=a.mls_best_fit(np.log(x),np.log(y))"
   ]
  },
  {
   "cell_type": "markdown",
   "metadata": {},
   "source": [
    "# Outcome of the Analysis "
   ]
  },
  {
   "cell_type": "markdown",
   "metadata": {},
   "source": [
    "### Printing the outcomes"
   ]
  },
  {
   "cell_type": "code",
   "execution_count": null,
   "metadata": {},
   "outputs": [],
   "source": [
    "summary(ln)\n",
    "summary(ln_beta1)\n",
    "summary(ln_deltaf)\n",
    "summary(Gauss)\n",
    "summary(Gauss_beta1)\n",
    "summary(Pop)\n",
    "summary(Pop2)\n",
    "\n",
    "print(\"\\n Least Square fitting:\",LS)"
   ]
  },
  {
   "cell_type": "markdown",
   "metadata": {},
   "source": [
    "### Plotting data "
   ]
  },
  {
   "cell_type": "code",
   "execution_count": 15,
   "metadata": {},
   "outputs": [
    {
     "ename": "NameError",
     "evalue": "name 'Pop' is not defined",
     "output_type": "error",
     "traceback": [
      "\u001b[0;31m---------------------------------------------------------------------------\u001b[0m",
      "\u001b[0;31mNameError\u001b[0m                                 Traceback (most recent call last)",
      "\u001b[0;32m<ipython-input-15-404774c184cb>\u001b[0m in \u001b[0;36m<module>\u001b[0;34m\u001b[0m\n\u001b[1;32m     10\u001b[0m \u001b[0;31m# People's model\u001b[0m\u001b[0;34m\u001b[0m\u001b[0;34m\u001b[0m\u001b[0;34m\u001b[0m\u001b[0m\n\u001b[1;32m     11\u001b[0m \u001b[0mY\u001b[0m\u001b[0;34m=\u001b[0m\u001b[0mnp\u001b[0m\u001b[0;34m.\u001b[0m\u001b[0msum\u001b[0m\u001b[0;34m(\u001b[0m\u001b[0my\u001b[0m\u001b[0;34m)\u001b[0m\u001b[0;34m\u001b[0m\u001b[0;34m\u001b[0m\u001b[0m\n\u001b[0;32m---> 12\u001b[0;31m \u001b[0mbetaP\u001b[0m\u001b[0;34m=\u001b[0m\u001b[0mPop\u001b[0m\u001b[0;34m.\u001b[0m\u001b[0mparams\u001b[0m\u001b[0;34m[\u001b[0m\u001b[0;36m0\u001b[0m\u001b[0;34m]\u001b[0m\u001b[0;34m\u001b[0m\u001b[0;34m\u001b[0m\u001b[0m\n\u001b[0m\u001b[1;32m     13\u001b[0m \u001b[0mZ\u001b[0m\u001b[0;34m=\u001b[0m\u001b[0mnp\u001b[0m\u001b[0;34m.\u001b[0m\u001b[0msum\u001b[0m\u001b[0;34m(\u001b[0m\u001b[0mnp\u001b[0m\u001b[0;34m.\u001b[0m\u001b[0mpower\u001b[0m\u001b[0;34m(\u001b[0m\u001b[0mx\u001b[0m\u001b[0;34m,\u001b[0m\u001b[0mbetaP\u001b[0m\u001b[0;34m)\u001b[0m\u001b[0;34m)\u001b[0m\u001b[0;34m\u001b[0m\u001b[0;34m\u001b[0m\u001b[0m\n\u001b[1;32m     14\u001b[0m \u001b[0mplot\u001b[0m\u001b[0;34m(\u001b[0m\u001b[0mx\u001b[0m\u001b[0;34m,\u001b[0m \u001b[0mY\u001b[0m\u001b[0;34m*\u001b[0m\u001b[0mx\u001b[0m\u001b[0;34m**\u001b[0m\u001b[0mbetaP\u001b[0m\u001b[0;34m/\u001b[0m\u001b[0mZ\u001b[0m\u001b[0;34m,\u001b[0m \u001b[0;34m\"-\"\u001b[0m\u001b[0;34m,\u001b[0m \u001b[0mms\u001b[0m\u001b[0;34m=\u001b[0m\u001b[0;36m2\u001b[0m\u001b[0;34m,\u001b[0m\u001b[0mcolor\u001b[0m\u001b[0;34m=\u001b[0m\u001b[0;34m\"black\"\u001b[0m\u001b[0;34m,\u001b[0m\u001b[0mlabel\u001b[0m\u001b[0;34m=\u001b[0m\u001b[0;34mr\"Person's Model, $\\beta=$\"\u001b[0m\u001b[0;34m+\u001b[0m\u001b[0mstr\u001b[0m\u001b[0;34m(\u001b[0m\u001b[0mbetaP\u001b[0m\u001b[0;34m)\u001b[0m\u001b[0;34m[\u001b[0m\u001b[0;34m:\u001b[0m\u001b[0;36m4\u001b[0m\u001b[0;34m]\u001b[0m\u001b[0;34m)\u001b[0m\u001b[0;34m\u001b[0m\u001b[0;34m\u001b[0m\u001b[0m\n",
      "\u001b[0;31mNameError\u001b[0m: name 'Pop' is not defined"
     ]
    },
    {
     "data": {
      "image/png": "[encoded data removed]",
      "text/plain": [
       "<matplotlib.figure.Figure at 0x7f35243750f0>"
      ]
     },
     "metadata": {
      "needs_background": "light"
     },
     "output_type": "display_data"
    }
   ],
   "source": [
    "from matplotlib.pyplot import *\n",
    "figure(figsize=(20,10))\n",
    "xscale(\"log\")\n",
    "yscale(\"log\")\n",
    "xlim(0.9*min(x),1.1*max(x))\n",
    "ylim(0.9*min(y),2*max(y))\n",
    "plot(x, y, \"o\", ms=2,color=\"black\",label=\"data\")\n",
    "plot(x, np.exp(LS[2])*x**LS[0], \"-\", ms=2,color=\"red\",label=r\"Least Square fit, $\\beta=$\"+str(LS[0])[:4])\n",
    "plot(x, ln.params[0]*x**ln.params[1], \"-\", ms=2,color=\"blue\",label=r\"Lognormal Model, $\\beta=$\"+str(ln.params[1])[:4])\n",
    "# People's model\n",
    "Y=np.sum(y)\n",
    "betaP=Pop.params[0]\n",
    "Z=np.sum(np.power(x,betaP))\n",
    "plot(x, Y*x**betaP/Z, \"-\", ms=2,color=\"black\",label=r\"Person's Model, $\\beta=$\"+str(betaP)[:4])\n",
    "xlabel(\"Population\")\n",
    "ylabel(\"Observable\")\n",
    "legend(loc=0)\n",
    "show()"
   ]
  }
 ],
 "metadata": {
  "kernelspec": {
   "display_name": "Python 3",
   "language": "python",
   "name": "python3"
  },
  "language_info": {
   "codemirror_mode": {
    "name": "ipython",
    "version": 3
   },
   "file_extension": ".py",
   "mimetype": "text/x-python",
   "name": "python",
   "nbconvert_exporter": "python",
   "pygments_lexer": "ipython3",
   "version": "3.6.9"
  }
 },
 "nbformat": 4,
 "nbformat_minor": 1
}
