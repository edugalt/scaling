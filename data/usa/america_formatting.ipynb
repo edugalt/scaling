{
 "cells": [
  {
   "cell_type": "code",
   "execution_count": 22,
   "id": "7ade152b",
   "metadata": {},
   "outputs": [],
   "source": [
    "import pandas as pd\n",
    "import numpy as np\n",
    "import sys\n",
    "from sklearn.model_selection import cross_val_score, RepeatedKFold\n",
    "from sklearn.linear_model import LinearRegression\n",
    "import statsmodels.api as sm"
   ]
  },
  {
   "cell_type": "code",
   "execution_count": 4,
   "id": "82533b46",
   "metadata": {},
   "outputs": [],
   "source": [
    "df_pop = pd.read_csv('../data/usa/us_2010_2022_population.csv')\n",
    "df_tot_area = pd.read_csv('../data/usa/us_area.csv')\n",
    "df_base = df_pop.merge(df_tot_area, how='inner', on='City', suffixes=('_pop','_area'))"
   ]
  },
  {
   "cell_type": "code",
   "execution_count": 7,
   "id": "bc677a59",
   "metadata": {},
   "outputs": [],
   "source": [
    "df_mean_income = pd.read_csv('../data/usa/us_2010_2022_mean_inc_tot.csv')\n",
    "df_median_income = pd.read_csv('../data/usa/us_2010_2022_med_inc_tot.csv')\n",
    "df_poverty = pd.read_csv('../data/usa/us_2010_2022_pov_tot.csv')\n",
    "df_travel_time = pd.read_csv('../data/usa/us_2010_2022_trav_time.csv')\n",
    "df_educ_highschool = pd.read_csv('../data/usa/us_2015_2022_hs_tot.csv')"
   ]
  },
  {
   "cell_type": "code",
   "execution_count": 19,
   "id": "0c44ec2e",
   "metadata": {},
   "outputs": [],
   "source": [
    "year = str(year)\n",
    "df_new_base = df_base.filter(like=year).copy()\n",
    "df_new_base['City'] = df_base['City']\n",
    "df_observable = globals()[f'df_{observable}'].filter(like=year).copy()\n",
    "df_observable['City'] = globals()[f'df_{observable}']['City']\n",
    "df = df_new_base.merge(df_observable, how='inner', on='City')\n",
    "df = df[['City', f'{year}_pop', f'{year}_area', f'{year}']].rename(columns={f'{year}_pop': 'Population', f'{year}_area': 'Area', f'{year}': 'Observable'})\n",
    "df.dropna(inplace=True)\n",
    "df.iloc[:, 1:] = df.iloc[:, 1:].apply(lambda x: np.log(x))"
   ]
  },
  {
   "cell_type": "code",
   "execution_count": 21,
   "id": "8218572f",
   "metadata": {},
   "outputs": [],
   "source": [
    "df['Interaction'] = df['Population']*df['Area']\n",
    "df['Population_sq'] = df['Population']*df['Population']\n",
    "df['Area_sq'] = df['Area']*df['Area']\n",
    "\n",
    "X_col = sm.add_constant(df['Population'])\n",
    "X = sm.add_constant(df[['Population','Area']])\n",
    "X_p = sm.add_constant(df['Population'])\n",
    "X_a = sm.add_constant(df['Area'])\n",
    "X_i = sm.add_constant(df[['Population','Area','Interaction']])\n",
    "X_f = sm.add_constant(df[['Population','Area','Interaction','Population_sq','Area_sq']])\n",
    "y = df['Observable']\n",
    "\n",
    "ols_col = sm.OLS(df['Area'], X_col)\n",
    "ols = sm.OLS(y.values, X)\n",
    "ols_p = sm.OLS(y.values, X_p)\n",
    "ols_a = sm.OLS(y.values, X_a)\n",
    "ols_i = sm.OLS(y.values, X_i)\n",
    "ols_f = sm.OLS(y.values, X_f)\n",
    "ols_result_col = ols_col.fit()\n",
    "ols_result = ols.fit()\n",
    "ols_result_p = ols_p.fit()\n",
    "ols_result_a = ols_a.fit()\n",
    "ols_result_i = ols_i.fit()\n",
    "ols_result_f = ols_f.fit()\n",
    "\n",
    "y_pred_col = ols_result_col.predict(X_col)\n",
    "y_pred = ols_result.predict(X)\n",
    "y_pred_p = ols_result_p.predict(X_p)\n",
    "y_pred_a = ols_result_a.predict(X_a)\n",
    "y_pred_i = ols_result_i.predict(X_i)\n",
    "y_pred_f = ols_result_f.predict(X_f)\n",
    "\n",
    "model = LinearRegression()\n",
    "cv = RepeatedKFold(n_splits=5, n_repeats=10)\n",
    "mse_scores = cross_val_score(model, X, y, scoring='neg_mean_squared_error', cv=cv)\n",
    "mse_scores_p = cross_val_score(model, X_p, y, scoring='neg_mean_squared_error', cv=cv)\n",
    "mse_scores_a = cross_val_score(model, X_a, y, scoring='neg_mean_squared_error', cv=cv)\n",
    "mse_scores_i = cross_val_score(model, X_i, y, scoring='neg_mean_squared_error', cv=cv)\n",
    "mse_scores_f = cross_val_score(model, X_f, y, scoring='neg_mean_squared_error', cv=cv)\n",
    "rmse_scores = np.sqrt(-mse_scores)\n",
    "rmse_scores_p = np.sqrt(-mse_scores_p)\n",
    "rmse_scores_a = np.sqrt(-mse_scores_a)\n",
    "rmse_scores_i = np.sqrt(-mse_scores_i)\n",
    "rmse_scores_f = np.sqrt(-mse_scores_f)"
   ]
  }
 ],
 "metadata": {
  "kernelspec": {
   "display_name": "Python 3 (ipykernel)",
   "language": "python",
   "name": "python3"
  },
  "language_info": {
   "codemirror_mode": {
    "name": "ipython",
    "version": 3
   },
   "file_extension": ".py",
   "mimetype": "text/x-python",
   "name": "python",
   "nbconvert_exporter": "python",
   "pygments_lexer": "ipython3",
   "version": "3.9.13"
  }
 },
 "nbformat": 4,
 "nbformat_minor": 5
}
